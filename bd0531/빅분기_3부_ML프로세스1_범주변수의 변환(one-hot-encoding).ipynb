{
 "cells": [
  {
   "cell_type": "code",
   "execution_count": null,
   "id": "3bfc183e",
   "metadata": {},
   "outputs": [],
   "source": [
    "#!/usr/bin/env python\n",
    "# coding: utf-8\n",
    "\n",
    "# # 4. 머신러닝 프로세스1: 범주형 특성변수의 원핫인코딩 \n",
    "# - (One Hot Encoding)\n",
    "\n",
    "# ## 4-1. 데이터 범주-연속-레이블로 나누기\n",
    "# In[1]:\n",
    "# vote(유권자 선거행동) 데이터셋 불러오기 및 확인\n",
    "import pandas as pd\n",
    "data=pd.read_csv('vote.csv', encoding='utf-8')\n",
    "data.head()\n",
    "# In[3]:\n",
    "# 범주변수와 기타 변수를 각각 X1과 XY로 나누기\n",
    "X1=data[['gender', 'region']]\n",
    "XY=data[['edu', 'income', 'age', 'score_gov', 'score_progress', 'score_intention', 'vote', 'parties']]\n",
    "\n",
    "# ## 4-2. 범주형 변수의 One-hot-encoding 변환\n",
    "# In[4]:\n",
    "# 성별(gender)과 출신지역(region)의 숫자를 문자로 변환\n",
    "X1['gender'] = X1['gender'].replace([1,2], ['male', 'female'])\n",
    "X1['region'] = X1['region'].replace([1,2,3,4,5], ['Sudo', 'Chungcheung', 'Honam', 'Youngnam', 'Others'])\n",
    "# In[5]:\n",
    "# 변환된 범주형 데이터(X1) 확인\n",
    "X1.head()\n",
    "# In[6]:\n",
    "# 범주변수를 one-hot-encoding으로 변환 및 확인\n",
    "X1_dum=pd.get_dummies(X1)\n",
    "X1_dum.head()\n",
    "\n",
    "# ## 4-3. 자료 통합 및 저장하기\n",
    "# In[7]:\n",
    "# 변환 데이터와 기타 변수를 한 데이터셋으로 통합 및 확인\n",
    "Fvote=pd.concat([X1_dum, XY], axis=1)\n",
    "Fvote.head()\n",
    "# In[8]:\n",
    "# 통합된 데이터를 'Fvote.csv' 파일로 저장 내보내기\n",
    "Fvote.to_csv('Fvote.csv', index=False, sep=',', encoding='utf-8')\n",
    "\n",
    "# In[ ]:\n",
    "\n",
    "\n",
    "\n",
    "\n"
   ]
  }
 ],
 "metadata": {
  "kernelspec": {
   "display_name": "Python 3 (ipykernel)",
   "language": "python",
   "name": "python3"
  },
  "language_info": {
   "codemirror_mode": {
    "name": "ipython",
    "version": 3
   },
   "file_extension": ".py",
   "mimetype": "text/x-python",
   "name": "python",
   "nbconvert_exporter": "python",
   "pygments_lexer": "ipython3",
   "version": "3.9.13"
  }
 },
 "nbformat": 4,
 "nbformat_minor": 5
}
