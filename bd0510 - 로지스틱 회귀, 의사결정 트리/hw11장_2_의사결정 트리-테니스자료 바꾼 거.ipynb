{
 "cells": [
  {
   "cell_type": "markdown",
   "id": "384477fb",
   "metadata": {},
   "source": [
    "## DecisionTree - playtennis\n",
    "\n",
    "#### 의사결정 트리를 이용한 데이터 분석\n",
    "- DecisionTree: 분류, 회귀에서 사용\n",
    "- 범주형 변수일 때 사용(남여, 혈액형)(여자면 왼 아니면 오)\n",
    "- 연속셩 변수일 때 회귀 트리로 사용(x보다 크면 왼, 작으면 오)\n",
    "\n",
    "#### 어떤 것을 맨 먼저 파악하는 게 가지치기가 좋을까? 하는 지표들\n",
    "- 지니 지수: 같은 종류 많을 수록 값 적음. 0.1... / 값 클수록 데이터끼리 다름. 0.7... : 같은 종류 많은 걸로 루트 정하면 좋다~\n",
    "- 엔트로피 지수: 데이터 집합의 혼잡도. 작으면 잘 분류된 것\n",
    "- 정보 이득: 값 클수록 정보 이득이 크다. 선택한 속성이 분류하기 좋다.\n",
    "\n",
    "#### 적용\n",
    "- 지니 지수가 가장 작은 Temperture를 루트로 정한다.(먼저 분리 속성으로 정한다.)"
   ]
  },
  {
   "cell_type": "code",
   "execution_count": 13,
   "id": "bd517f9e",
   "metadata": {},
   "outputs": [],
   "source": [
    "from sklearn.metrics import classification_report, confusion_matrix \n",
    "from sklearn.model_selection import train_test_split\n",
    "from sklearn.tree import DecisionTreeClassifier # 의사결정 트리\n",
    "from sklearn import tree\n",
    "\n",
    "from IPython.display import Image\n",
    "\n",
    "import pandas as pd\n",
    "import numpy as np\n",
    "#get_ipython().system('pip install pydotplus')\n",
    "import pydotplus\n",
    "import os\n",
    "#pydotplus 설치 \n",
    "#anaconda prompt 를 관리자 권한으로 실행\n",
    "#conda install -c conda-forge pydotplus"
   ]
  },
  {
   "cell_type": "code",
   "execution_count": 14,
   "id": "419bf7d8",
   "metadata": {},
   "outputs": [
    {
     "data": {
      "text/html": [
       "<div>\n",
       "<style scoped>\n",
       "    .dataframe tbody tr th:only-of-type {\n",
       "        vertical-align: middle;\n",
       "    }\n",
       "\n",
       "    .dataframe tbody tr th {\n",
       "        vertical-align: top;\n",
       "    }\n",
       "\n",
       "    .dataframe thead th {\n",
       "        text-align: right;\n",
       "    }\n",
       "</style>\n",
       "<table border=\"1\" class=\"dataframe\">\n",
       "  <thead>\n",
       "    <tr style=\"text-align: right;\">\n",
       "      <th></th>\n",
       "      <th>Outlook</th>\n",
       "      <th>Temperature</th>\n",
       "      <th>Humidity</th>\n",
       "      <th>PlayTennis</th>\n",
       "    </tr>\n",
       "  </thead>\n",
       "  <tbody>\n",
       "    <tr>\n",
       "      <th>0</th>\n",
       "      <td>Sunny</td>\n",
       "      <td>Hot</td>\n",
       "      <td>High</td>\n",
       "      <td>No</td>\n",
       "    </tr>\n",
       "    <tr>\n",
       "      <th>1</th>\n",
       "      <td>Overcast</td>\n",
       "      <td>Hot</td>\n",
       "      <td>High</td>\n",
       "      <td>Yes</td>\n",
       "    </tr>\n",
       "    <tr>\n",
       "      <th>2</th>\n",
       "      <td>Overcast</td>\n",
       "      <td>Mild</td>\n",
       "      <td>Normal</td>\n",
       "      <td>Yes</td>\n",
       "    </tr>\n",
       "    <tr>\n",
       "      <th>3</th>\n",
       "      <td>Rain</td>\n",
       "      <td>Mild</td>\n",
       "      <td>Normal</td>\n",
       "      <td>Yes</td>\n",
       "    </tr>\n",
       "    <tr>\n",
       "      <th>4</th>\n",
       "      <td>Sunny</td>\n",
       "      <td>Mild</td>\n",
       "      <td>High</td>\n",
       "      <td>Yes</td>\n",
       "    </tr>\n",
       "    <tr>\n",
       "      <th>5</th>\n",
       "      <td>Rain</td>\n",
       "      <td>Hot</td>\n",
       "      <td>High</td>\n",
       "      <td>No</td>\n",
       "    </tr>\n",
       "    <tr>\n",
       "      <th>6</th>\n",
       "      <td>Overcast</td>\n",
       "      <td>Hot</td>\n",
       "      <td>Normal</td>\n",
       "      <td>No</td>\n",
       "    </tr>\n",
       "  </tbody>\n",
       "</table>\n",
       "</div>"
      ],
      "text/plain": [
       "    Outlook Temperature Humidity PlayTennis\n",
       "0     Sunny         Hot     High         No\n",
       "1  Overcast         Hot     High        Yes\n",
       "2  Overcast        Mild   Normal        Yes\n",
       "3      Rain        Mild   Normal        Yes\n",
       "4     Sunny        Mild     High        Yes\n",
       "5      Rain         Hot     High         No\n",
       "6  Overcast         Hot   Normal         No"
      ]
     },
     "execution_count": 14,
     "metadata": {},
     "output_type": "execute_result"
    }
   ],
   "source": [
    "tennis_data = pd.read_csv('/Users/min0/Documents/Documents/school/4-1/빅데이터/자료/week10/playtennis 복사본.csv')\n",
    "tennis_data"
   ]
  },
  {
   "cell_type": "code",
   "execution_count": 15,
   "id": "dd755834",
   "metadata": {},
   "outputs": [
    {
     "data": {
      "text/html": [
       "<div>\n",
       "<style scoped>\n",
       "    .dataframe tbody tr th:only-of-type {\n",
       "        vertical-align: middle;\n",
       "    }\n",
       "\n",
       "    .dataframe tbody tr th {\n",
       "        vertical-align: top;\n",
       "    }\n",
       "\n",
       "    .dataframe thead th {\n",
       "        text-align: right;\n",
       "    }\n",
       "</style>\n",
       "<table border=\"1\" class=\"dataframe\">\n",
       "  <thead>\n",
       "    <tr style=\"text-align: right;\">\n",
       "      <th></th>\n",
       "      <th>Outlook</th>\n",
       "      <th>Temperature</th>\n",
       "      <th>Humidity</th>\n",
       "      <th>PlayTennis</th>\n",
       "    </tr>\n",
       "  </thead>\n",
       "  <tbody>\n",
       "    <tr>\n",
       "      <th>0</th>\n",
       "      <td>0</td>\n",
       "      <td>3</td>\n",
       "      <td>6</td>\n",
       "      <td>10</td>\n",
       "    </tr>\n",
       "    <tr>\n",
       "      <th>1</th>\n",
       "      <td>1</td>\n",
       "      <td>3</td>\n",
       "      <td>6</td>\n",
       "      <td>11</td>\n",
       "    </tr>\n",
       "    <tr>\n",
       "      <th>2</th>\n",
       "      <td>1</td>\n",
       "      <td>4</td>\n",
       "      <td>7</td>\n",
       "      <td>11</td>\n",
       "    </tr>\n",
       "    <tr>\n",
       "      <th>3</th>\n",
       "      <td>2</td>\n",
       "      <td>4</td>\n",
       "      <td>7</td>\n",
       "      <td>11</td>\n",
       "    </tr>\n",
       "    <tr>\n",
       "      <th>4</th>\n",
       "      <td>0</td>\n",
       "      <td>4</td>\n",
       "      <td>6</td>\n",
       "      <td>11</td>\n",
       "    </tr>\n",
       "    <tr>\n",
       "      <th>5</th>\n",
       "      <td>2</td>\n",
       "      <td>3</td>\n",
       "      <td>6</td>\n",
       "      <td>10</td>\n",
       "    </tr>\n",
       "    <tr>\n",
       "      <th>6</th>\n",
       "      <td>1</td>\n",
       "      <td>3</td>\n",
       "      <td>7</td>\n",
       "      <td>10</td>\n",
       "    </tr>\n",
       "  </tbody>\n",
       "</table>\n",
       "</div>"
      ],
      "text/plain": [
       "   Outlook  Temperature  Humidity  PlayTennis\n",
       "0        0            3         6          10\n",
       "1        1            3         6          11\n",
       "2        1            4         7          11\n",
       "3        2            4         7          11\n",
       "4        0            4         6          11\n",
       "5        2            3         6          10\n",
       "6        1            3         7          10"
      ]
     },
     "execution_count": 15,
     "metadata": {},
     "output_type": "execute_result"
    }
   ],
   "source": [
    "# 범주형 변수 변경\n",
    "# String 데이터를 숫자로 인코딩\n",
    "tennis_data.Outlook = tennis_data.Outlook.replace('Sunny', 0)\n",
    "tennis_data.Outlook = tennis_data.Outlook.replace('Overcast', 1)\n",
    "tennis_data.Outlook = tennis_data.Outlook.replace('Rain', 2)\n",
    "\n",
    "tennis_data.Temperature = tennis_data.Temperature.replace('Hot', 3)\n",
    "tennis_data.Temperature = tennis_data.Temperature.replace('Mild', 4)\n",
    "tennis_data.Temperature = tennis_data.Temperature.replace('Cool', 5)\n",
    "\n",
    "tennis_data.Humidity = tennis_data.Humidity.replace('High', 6)\n",
    "tennis_data.Humidity = tennis_data.Humidity.replace('Normal', 7)\n",
    "\n",
    "tennis_data.PlayTennis = tennis_data.PlayTennis.replace('No', 10)\n",
    "tennis_data.PlayTennis = tennis_data.PlayTennis.replace('Yes', 11)\n",
    "\n",
    "tennis_data"
   ]
  },
  {
   "cell_type": "code",
   "execution_count": 16,
   "id": "226dbd65",
   "metadata": {},
   "outputs": [
    {
     "name": "stdout",
     "output_type": "stream",
     "text": [
      "[[0 3 6]\n",
      " [1 3 6]\n",
      " [1 4 7]\n",
      " [2 4 7]\n",
      " [0 4 6]\n",
      " [2 3 6]\n",
      " [1 3 7]]\n",
      "[[10]\n",
      " [11]\n",
      " [11]\n",
      " [11]\n",
      " [11]\n",
      " [10]\n",
      " [10]]\n"
     ]
    }
   ],
   "source": [
    "# 숫자니까 넘파이 배열로 바꾸자~~ 편하게편하게~~ 컬럼은 저렇게 지정~ 엥 근데 컬럼 안 줘도 되는데 왜 주는지는 교수님도 ㅁㄹ\n",
    "X = np.array(pd.DataFrame(tennis_data, columns = ['Outlook', 'Temperature', 'Humidity']))\n",
    "y = np.array(pd.DataFrame(tennis_data, columns = ['PlayTennis']))\n",
    "print(X) # Array of int64\n",
    "print(y) # Array of int64"
   ]
  },
  {
   "cell_type": "code",
   "execution_count": 23,
   "id": "ae2ccb97",
   "metadata": {},
   "outputs": [
    {
     "name": "stdout",
     "output_type": "stream",
     "text": [
      "[[2 3 6]\n",
      " [2 4 7]\n",
      " [1 3 6]\n",
      " [1 3 7]\n",
      " [0 4 6]]\n",
      "[[0 3 6]\n",
      " [1 4 7]]\n"
     ]
    }
   ],
   "source": [
    "# 학습, 테스트 데이터로 나누기\n",
    "# train, test 비율은 default=0.25 로 랜덤하게 선택됨 => 아래 링크 참조.\n",
    "# http://blog.naver.com/PostView.nhn?blogId=siniphia&logNo=221396370872\n",
    "X_train, X_test, y_train, y_test = train_test_split(X, y)\n",
    "print(X_train)\n",
    "print(X_test)\n",
    "# 모두 Array of int64"
   ]
  },
  {
   "cell_type": "code",
   "execution_count": 24,
   "id": "c908f803",
   "metadata": {},
   "outputs": [
    {
     "name": "stdout",
     "output_type": "stream",
     "text": [
      "예측 값\n",
      "[11 11]\n",
      "\n",
      "\n",
      "혼동행렬\n",
      "[[0 1]\n",
      " [0 1]]\n",
      "\n",
      "\n",
      "정확도 이런 거\n",
      "              precision    recall  f1-score   support\n",
      "\n",
      "          10       0.00      0.00      0.00         1\n",
      "          11       0.50      1.00      0.67         1\n",
      "\n",
      "    accuracy                           0.50         2\n",
      "   macro avg       0.25      0.50      0.33         2\n",
      "weighted avg       0.25      0.50      0.33         2\n",
      "\n"
     ]
    },
    {
     "name": "stderr",
     "output_type": "stream",
     "text": [
      "/Users/min0/Downloads/anaconda3/lib/python3.9/site-packages/sklearn/metrics/_classification.py:1318: UndefinedMetricWarning: Precision and F-score are ill-defined and being set to 0.0 in labels with no predicted samples. Use `zero_division` parameter to control this behavior.\n",
      "  _warn_prf(average, modifier, msg_start, len(result))\n",
      "/Users/min0/Downloads/anaconda3/lib/python3.9/site-packages/sklearn/metrics/_classification.py:1318: UndefinedMetricWarning: Precision and F-score are ill-defined and being set to 0.0 in labels with no predicted samples. Use `zero_division` parameter to control this behavior.\n",
      "  _warn_prf(average, modifier, msg_start, len(result))\n",
      "/Users/min0/Downloads/anaconda3/lib/python3.9/site-packages/sklearn/metrics/_classification.py:1318: UndefinedMetricWarning: Precision and F-score are ill-defined and being set to 0.0 in labels with no predicted samples. Use `zero_division` parameter to control this behavior.\n",
      "  _warn_prf(average, modifier, msg_start, len(result))\n"
     ]
    }
   ],
   "source": [
    "# 모델 생성\n",
    "dt_clf = DecisionTreeClassifier()\n",
    "# 모델 학습\n",
    "dt_clf = dt_clf.fit(X_train, y_train)\n",
    "# 예측하기\n",
    "dt_prediction = dt_clf.predict(X_test)\n",
    "print(\"예측 값\")\n",
    "print(dt_prediction)\n",
    "print(\"\\n\\n혼동행렬\")\n",
    "print(confusion_matrix(y_test, dt_prediction))\n",
    "# 2개는 잘 예측, 2개는 테니스 치는 날 아닌데 맞다고 한 거\n",
    "print(\"\\n\\n정확도 이런 거\")\n",
    "print(classification_report(y_test, dt_prediction))"
   ]
  },
  {
   "cell_type": "code",
   "execution_count": 25,
   "id": "91493956",
   "metadata": {},
   "outputs": [],
   "source": [
    "feature_names = tennis_data.columns.tolist()\n",
    "feature_names = feature_names[0:3]\n",
    "target_name = np.array(['Play No', 'Play Yes'])\n",
    "\n",
    "dt_dot_data = tree.export_graphviz(dt_clf, out_file = None,\n",
    "                                  feature_names = feature_names,\n",
    "                                  class_names = target_name,\n",
    "                                  filled = True, rounded = True,\n",
    "                                  special_characters = True)\n",
    "\n",
    "dt_graph = pydotplus.graph_from_dot_data(dt_dot_data)"
   ]
  },
  {
   "cell_type": "code",
   "execution_count": 20,
   "id": "2d23980b",
   "metadata": {},
   "outputs": [
    {
     "data": {
      "image/png": "[encoded data removed]",
      "text/plain": [
       "<IPython.core.display.Image object>"
      ]
     },
     "execution_count": 20,
     "metadata": {},
     "output_type": "execute_result"
    }
   ],
   "source": [
    "# graphviz 설치 : https://graphviz.org/download/\n",
    "#os.environ['PATH'] += os.pathsep + 'C:\\Program Files\\Graphviz/bin/'\n",
    "\n",
    "# 다음 명령어는 따로 실행해본다.\n",
    "#graphviz.Source(dt_graph)\n",
    "Image(dt_graph.create_png())"
   ]
  },
  {
   "cell_type": "code",
   "execution_count": null,
   "id": "a9e532c4",
   "metadata": {},
   "outputs": [],
   "source": []
  }
 ],
 "metadata": {
  "kernelspec": {
   "display_name": "Python 3 (ipykernel)",
   "language": "python",
   "name": "python3"
  },
  "language_info": {
   "codemirror_mode": {
    "name": "ipython",
    "version": 3
   },
   "file_extension": ".py",
   "mimetype": "text/x-python",
   "name": "python",
   "nbconvert_exporter": "python",
   "pygments_lexer": "ipython3",
   "version": "3.9.13"
  }
 },
 "nbformat": 4,
 "nbformat_minor": 5
}
