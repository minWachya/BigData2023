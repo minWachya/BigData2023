{
 "cells": [
  {
   "cell_type": "markdown",
   "id": "2a1f9d40",
   "metadata": {},
   "source": [
    "### 연습문제 (Q9.2)\n",
    "- 다중선형회귀분석 모델을 만드는 프로그램이다. 다음 프로그램을 수행해보고 아래 답하여라.\n",
    "1. Diabetes 데이터의 속성들과 데이터 개수에 대하여 설명하여라.\n",
    "2. 회귀분석을 수행하고 R-squared 값을 찾아라. 데이터를 train/test로 split하도록 프로그램을 수정하여라"
   ]
  },
  {
   "cell_type": "code",
   "execution_count": 1,
   "id": "4ca6dec9",
   "metadata": {},
   "outputs": [],
   "source": [
    "from sklearn import linear_model\n",
    "from sklearn import datasets\n",
    "from sklearn.metrics import mean_squared_error\n",
    "import pandas as pd\n",
    "from sklearn.model_selection import train_test_split\n",
    "\n",
    "# 1) 데이터 수집: 데아터 로드\n",
    "diabetes_data = datasets.load_diabetes()"
   ]
  },
  {
   "cell_type": "code",
   "execution_count": 2,
   "id": "13c60066",
   "metadata": {},
   "outputs": [
    {
     "name": "stdout",
     "output_type": "stream",
     "text": [
      " 데이터셋 크기 :  (442, 10)\n"
     ]
    },
    {
     "data": {
      "text/html": [
       "<div>\n",
       "<style scoped>\n",
       "    .dataframe tbody tr th:only-of-type {\n",
       "        vertical-align: middle;\n",
       "    }\n",
       "\n",
       "    .dataframe tbody tr th {\n",
       "        vertical-align: top;\n",
       "    }\n",
       "\n",
       "    .dataframe thead th {\n",
       "        text-align: right;\n",
       "    }\n",
       "</style>\n",
       "<table border=\"1\" class=\"dataframe\">\n",
       "  <thead>\n",
       "    <tr style=\"text-align: right;\">\n",
       "      <th></th>\n",
       "      <th>0</th>\n",
       "      <th>1</th>\n",
       "      <th>2</th>\n",
       "      <th>3</th>\n",
       "      <th>4</th>\n",
       "      <th>5</th>\n",
       "      <th>6</th>\n",
       "      <th>7</th>\n",
       "      <th>8</th>\n",
       "      <th>9</th>\n",
       "    </tr>\n",
       "  </thead>\n",
       "  <tbody>\n",
       "    <tr>\n",
       "      <th>0</th>\n",
       "      <td>0.038076</td>\n",
       "      <td>0.050680</td>\n",
       "      <td>0.061696</td>\n",
       "      <td>0.021872</td>\n",
       "      <td>-0.044223</td>\n",
       "      <td>-0.034821</td>\n",
       "      <td>-0.043401</td>\n",
       "      <td>-0.002592</td>\n",
       "      <td>0.019908</td>\n",
       "      <td>-0.017646</td>\n",
       "    </tr>\n",
       "    <tr>\n",
       "      <th>1</th>\n",
       "      <td>-0.001882</td>\n",
       "      <td>-0.044642</td>\n",
       "      <td>-0.051474</td>\n",
       "      <td>-0.026328</td>\n",
       "      <td>-0.008449</td>\n",
       "      <td>-0.019163</td>\n",
       "      <td>0.074412</td>\n",
       "      <td>-0.039493</td>\n",
       "      <td>-0.068330</td>\n",
       "      <td>-0.092204</td>\n",
       "    </tr>\n",
       "    <tr>\n",
       "      <th>2</th>\n",
       "      <td>0.085299</td>\n",
       "      <td>0.050680</td>\n",
       "      <td>0.044451</td>\n",
       "      <td>-0.005671</td>\n",
       "      <td>-0.045599</td>\n",
       "      <td>-0.034194</td>\n",
       "      <td>-0.032356</td>\n",
       "      <td>-0.002592</td>\n",
       "      <td>0.002864</td>\n",
       "      <td>-0.025930</td>\n",
       "    </tr>\n",
       "    <tr>\n",
       "      <th>3</th>\n",
       "      <td>-0.089063</td>\n",
       "      <td>-0.044642</td>\n",
       "      <td>-0.011595</td>\n",
       "      <td>-0.036656</td>\n",
       "      <td>0.012191</td>\n",
       "      <td>0.024991</td>\n",
       "      <td>-0.036038</td>\n",
       "      <td>0.034309</td>\n",
       "      <td>0.022692</td>\n",
       "      <td>-0.009362</td>\n",
       "    </tr>\n",
       "    <tr>\n",
       "      <th>4</th>\n",
       "      <td>0.005383</td>\n",
       "      <td>-0.044642</td>\n",
       "      <td>-0.036385</td>\n",
       "      <td>0.021872</td>\n",
       "      <td>0.003935</td>\n",
       "      <td>0.015596</td>\n",
       "      <td>0.008142</td>\n",
       "      <td>-0.002592</td>\n",
       "      <td>-0.031991</td>\n",
       "      <td>-0.046641</td>\n",
       "    </tr>\n",
       "  </tbody>\n",
       "</table>\n",
       "</div>"
      ],
      "text/plain": [
       "          0         1         2         3         4         5         6  \\\n",
       "0  0.038076  0.050680  0.061696  0.021872 -0.044223 -0.034821 -0.043401   \n",
       "1 -0.001882 -0.044642 -0.051474 -0.026328 -0.008449 -0.019163  0.074412   \n",
       "2  0.085299  0.050680  0.044451 -0.005671 -0.045599 -0.034194 -0.032356   \n",
       "3 -0.089063 -0.044642 -0.011595 -0.036656  0.012191  0.024991 -0.036038   \n",
       "4  0.005383 -0.044642 -0.036385  0.021872  0.003935  0.015596  0.008142   \n",
       "\n",
       "          7         8         9  \n",
       "0 -0.002592  0.019908 -0.017646  \n",
       "1 -0.039493 -0.068330 -0.092204  \n",
       "2 -0.002592  0.002864 -0.025930  \n",
       "3  0.034309  0.022692 -0.009362  \n",
       "4 -0.002592 -0.031991 -0.046641  "
      ]
     },
     "execution_count": 2,
     "metadata": {},
     "output_type": "execute_result"
    }
   ],
   "source": [
    "# 2) 데이터 준비 및 탐색 \n",
    "data_df = pd.DataFrame(diabetes_data.data)\n",
    "print(' 데이터셋 크기 : ', data_df.shape)\n",
    "data_df.head()"
   ]
  },
  {
   "cell_type": "code",
   "execution_count": 3,
   "id": "342cd307",
   "metadata": {},
   "outputs": [
    {
     "name": "stdout",
     "output_type": "stream",
     "text": [
      "feature 1 : age\n",
      "feature 2 : sex\n",
      "feature 3 : bmi\n",
      "feature 4 : bp\n",
      "feature 5 : s1\n",
      "feature 6 : s2\n",
      "feature 7 : s3\n",
      "feature 8 : s4\n",
      "feature 9 : s5\n",
      "feature 10 : s6\n"
     ]
    }
   ],
   "source": [
    "for i,feature_name in enumerate(diabetes_data.feature_names):\n",
    "  print(f'feature {i+1} : {feature_name}')"
   ]
  },
  {
   "cell_type": "code",
   "execution_count": 4,
   "id": "01d37f3a",
   "metadata": {},
   "outputs": [
    {
     "name": "stdout",
     "output_type": "stream",
     "text": [
      "<class 'pandas.core.frame.DataFrame'>\n",
      "RangeIndex: 442 entries, 0 to 441\n",
      "Data columns (total 10 columns):\n",
      " #   Column  Non-Null Count  Dtype  \n",
      "---  ------  --------------  -----  \n",
      " 0   0       442 non-null    float64\n",
      " 1   1       442 non-null    float64\n",
      " 2   2       442 non-null    float64\n",
      " 3   3       442 non-null    float64\n",
      " 4   4       442 non-null    float64\n",
      " 5   5       442 non-null    float64\n",
      " 6   6       442 non-null    float64\n",
      " 7   7       442 non-null    float64\n",
      " 8   8       442 non-null    float64\n",
      " 9   9       442 non-null    float64\n",
      "dtypes: float64(10)\n",
      "memory usage: 34.7 KB\n"
     ]
    }
   ],
   "source": [
    "data_df.info()\n",
    "# null값은 없고 타입은 float만 있다."
   ]
  },
  {
   "cell_type": "code",
   "execution_count": 5,
   "id": "f782c8b4",
   "metadata": {},
   "outputs": [],
   "source": [
    "# 3) 분석 모델 구축\n",
    "\n",
    "# 분석값, 결괏값 나누기\n",
    "X = pd.DataFrame(diabetes_data.data)\n",
    "y = diabetes_data.target"
   ]
  },
  {
   "cell_type": "code",
   "execution_count": 6,
   "id": "22b3e1e0",
   "metadata": {},
   "outputs": [],
   "source": [
    "# 훈련용 데이터와 평가용 데이터 분할하기\n",
    "X_train, X_test, Y_train, Y_test = train_test_split(X, y, test_size=0.3, random_state=156)\n",
    "\n",
    "# 선형회귀 모델 훈련 실행\n",
    "linear_regression = linear_model.LinearRegression()\n",
    "# 선형회귀분석 : 모델 훈련\n",
    "linear_regression.fit(X_train, Y_train)\n",
    "\n",
    "# 선형회귀분석 : 평가 데이터에 대한 예측 수행 -> 예측 결과 Y_predict 구하기\n",
    "prediction = linear_regression.predict(X_test) # Y_predict\n",
    "\n",
    "residuals = Y_test - prediction"
   ]
  },
  {
   "cell_type": "code",
   "execution_count": 7,
   "id": "717c3cf4",
   "metadata": {},
   "outputs": [
    {
     "name": "stdout",
     "output_type": "stream",
     "text": [
      "a value =  152.3862093084275\n",
      "b balue = [   39.12828406  -251.94431142   468.82188195   305.25879936\n",
      " -1146.90720382   787.92431245   177.23484342   117.37272002\n",
      "   937.87668743    53.74695425]\n",
      "R_squared =  0.4970703354980266\n",
      "score =  0.4970703354980266\n",
      "Mean_Squared_Error =  2993.6749390260047\n",
      "RMSE =  54.71448564161053\n"
     ]
    }
   ],
   "source": [
    "# 4) 결과 분석\n",
    "\n",
    "print('a value = ', linear_regression.intercept_)\n",
    "print('b balue =', linear_regression.coef_)\n",
    "\n",
    "SSE = (residuals**2).sum(); SST = ((Y_test-Y_test.mean())**2).sum()\n",
    "R_squared = 1 - (SSE/SST)\n",
    "print('R_squared = ', R_squared)\n",
    "print('score = ', linear_regression.score(X = X_test, y = Y_test)) \n",
    "print('Mean_Squared_Error = ', mean_squared_error(prediction, Y_test)) \n",
    "print('RMSE = ', mean_squared_error(prediction, Y_test)**0.5)"
   ]
  },
  {
   "cell_type": "markdown",
   "id": "b90573a9",
   "metadata": {},
   "source": [
    "------"
   ]
  },
  {
   "cell_type": "code",
   "execution_count": 7,
   "id": "4f84ca9e",
   "metadata": {},
   "outputs": [
    {
     "name": "stdout",
     "output_type": "stream",
     "text": [
      "a value =  152.1334841628965\n",
      "b balue = [ -10.01219782 -239.81908937  519.83978679  324.39042769 -792.18416163\n",
      "  476.74583782  101.04457032  177.06417623  751.27932109   67.62538639]\n",
      "R_squared =  0.5177494254132934\n",
      "score =  0.5177494254132934\n",
      "Mean_Squared_Error =  2859.6903987680657\n",
      "RMSE =  53.47607314274362\n"
     ]
    }
   ],
   "source": [
    "from sklearn import linear_model\n",
    "from sklearn import datasets\n",
    "from sklearn.metrics import mean_squared_error\n",
    "import pandas as pd\n",
    "\n",
    "diabetes_data = datasets.load_diabetes()\n",
    "X = pd.DataFrame(diabetes_data.data)\n",
    "y = diabetes_data.target\n",
    "linear_regression = linear_model.LinearRegression() \n",
    "linear_regression.fit(X = pd.DataFrame(X), y = y)\n",
    "prediction = linear_regression.predict(X = pd.DataFrame(X))\n",
    "print('a value = ', linear_regression.intercept_)\n",
    "print('b balue =', linear_regression.coef_)\n",
    "residuals = y-prediction\n",
    "SSE = (residuals**2).sum(); SST = ((y-y.mean())**2).sum()\n",
    "R_squared = 1 - (SSE/SST)\n",
    "print('R_squared = ', R_squared)\n",
    "print('score = ', linear_regression.score(X = pd.DataFrame(X), y = y)) \n",
    "print('Mean_Squared_Error = ', mean_squared_error(prediction, y)) \n",
    "print('RMSE = ', mean_squared_error(prediction, y)**0.5)"
   ]
  },
  {
   "cell_type": "code",
   "execution_count": null,
   "id": "92e58d50",
   "metadata": {},
   "outputs": [],
   "source": [
    "# 맨 위에 꺼 이어붙이기\n",
    "\n",
    "from sklearn import linear_model\n",
    "from sklearn import datasets\n",
    "from sklearn.metrics import mean_squared_error\n",
    "import pandas as pd\n",
    "from sklearn.model_selection import train_test_split\n",
    "\n",
    "# 1) 데이터 수집: 데아터 로드\n",
    "diabetes_data = datasets.load_diabetes()\n",
    "\n",
    "# 2) 데이터 준비 및 탐색 \n",
    "data_df = pd.DataFrame(diabetes_data.data)\n",
    "print(' 데이터셋 크기 : ', data_df.shape)\n",
    "data_df.head()\n",
    "\n",
    "for i,feature_name in enumerate(diabetes_data.feature_names):\n",
    "  print(f'feature {i+1} : {feature_name}')\n",
    "\n",
    "data_df.info()\n",
    "# null값은 없고 타입은 float만 있다.\n",
    "\n",
    "# 3) 분석 모델 구축\n",
    "\n",
    "# 분석값, 결괏값 나누기\n",
    "X = pd.DataFrame(diabetes_data.data)\n",
    "y = diabetes_data.target"
   ]
  }
 ],
 "metadata": {
  "kernelspec": {
   "display_name": "Python 3 (ipykernel)",
   "language": "python",
   "name": "python3"
  },
  "language_info": {
   "codemirror_mode": {
    "name": "ipython",
    "version": 3
   },
   "file_extension": ".py",
   "mimetype": "text/x-python",
   "name": "python",
   "nbconvert_exporter": "python",
   "pygments_lexer": "ipython3",
   "version": "3.9.13"
  }
 },
 "nbformat": 4,
 "nbformat_minor": 5
}
