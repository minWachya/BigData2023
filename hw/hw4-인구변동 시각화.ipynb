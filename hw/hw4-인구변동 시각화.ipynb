{
 "cells": [
  {
   "cell_type": "markdown",
   "id": "77795763",
   "metadata": {},
   "source": [
    "### 각 지역별 인구 변동을 2013년2월, 2023년2월에 대하여 그래프로 그려보시요.\n",
    "### (1) 2013년2월, 2023년2월의 지역별 데이터를 찾는다. "
   ]
  },
  {
   "cell_type": "code",
   "execution_count": 22,
   "id": "01b70e68",
   "metadata": {},
   "outputs": [],
   "source": [
    "import csv\n",
    "import matplotlib.pyplot as plt\n",
    "import pandas as pd"
   ]
  },
  {
   "cell_type": "code",
   "execution_count": 23,
   "id": "ccc2b2fc",
   "metadata": {},
   "outputs": [],
   "source": [
    "# 인구 공공데이터 받기 => [www.mois.go. kr] –[정책자료] –[통계] –[주민등록 인구통계 ]\n",
    "hw4_2013_file_path = '/Users/min0/Documents/Documents/school/4-1/빅데이터/자료/hw4_2013_주민등록_인구.csv'\n",
    "hw4_2023_file_path = '/Users/min0/Documents/Documents/school/4-1/빅데이터/자료/hw4_2023_주민등록_인구.csv'"
   ]
  },
  {
   "cell_type": "code",
   "execution_count": 24,
   "id": "c3a453d9",
   "metadata": {},
   "outputs": [
    {
     "name": "stdout",
     "output_type": "stream",
     "text": [
      "['행정구역', '2013년02월_총인구수', '2013년02월_세대수', '2013년02월_세대당 인구', '2013년02월_남자 인구수', '2013년02월_여자 인구수', '2013년02월_남여 비율']\n",
      "['전국  (1000000000)', '50,991,003', '20,248,440', '          2.52', '25,523,833', '25,467,170', '          1.00']\n",
      "['서울특별시  (1100000000)', '10,196,434', '4,181,574', '          2.44', '5,039,921', '5,156,513', '          0.98']\n",
      "['부산광역시  (2600000000)', '3,539,455', '1,392,593', '          2.54', '1,754,758', '1,784,697', '          0.98']\n",
      "['대구광역시  (2700000000)', '2,505,040', '950,116', '          2.64', '1,248,840', '1,256,200', '          0.99']\n",
      "['인천광역시  (2800000000)', '2,850,543', '1,100,751', '          2.59', '1,434,674', '1,415,869', '          1.01']\n",
      "['광주광역시  (2900000000)', '1,470,969', '556,633', '          2.64', '729,362', '741,607', '          0.98']\n",
      "['대전광역시  (3000000000)', '1,527,383', '577,469', '          2.64', '764,912', '762,471', '          1.00']\n",
      "['울산광역시  (3100000000)', '1,148,713', '423,523', '          2.71', '591,328', '557,385', '          1.06']\n",
      "['세종특별자치시  (3600000000)', '115,269', '47,246', '          2.44', '58,788', '56,481', '          1.04']\n",
      "['경기도  (4100000000)', '12,123,024', '4,651,451', '          2.61', '6,105,695', '6,017,329', '          1.01']\n",
      "['강원도  (4200000000)', '1,536,718', '654,835', '          2.35', '773,279', '763,439', '          1.01']\n",
      "['충청북도  (4300000000)', '1,565,697', '634,382', '          2.47', '789,423', '776,274', '          1.02']\n",
      "['충청남도  (4400000000)', '2,031,839', '844,895', '          2.40', '1,028,533', '1,003,306', '          1.03']\n",
      "['전라북도  (4500000000)', '1,872,311', '761,049', '          2.46', '932,775', '939,536', '          0.99']\n",
      "['전라남도  (4600000000)', '1,907,027', '808,704', '          2.36', '953,187', '953,840', '          1.00']\n",
      "['경상북도  (4700000000)', '2,696,802', '1,126,942', '          2.39', '1,354,904', '1,341,898', '          1.01']\n",
      "['경상남도  (4800000000)', '3,318,548', '1,303,194', '          2.55', '1,670,391', '1,648,157', '          1.01']\n",
      "['제주특별자치도  (5000000000)', '585,231', '233,083', '          2.51', '293,063', '292,168', '          1.00']\n"
     ]
    }
   ],
   "source": [
    "# 2013 데이터 읽기\n",
    "f2013 = open(hw4_2013_file_path, 'r', encoding='cp949')\n",
    "data = csv.reader(f2013)\n",
    "\n",
    "for row in data :\n",
    "    print(row)\n",
    "f2013.close()"
   ]
  },
  {
   "cell_type": "code",
   "execution_count": 25,
   "id": "a7f95cde",
   "metadata": {},
   "outputs": [
    {
     "name": "stdout",
     "output_type": "stream",
     "text": [
      "['행정구역', '2023년02월_총인구수', '2023년02월_세대수', '2023년02월_세대당 인구', '2023년02월_남자 인구수', '2023년02월_여자 인구수', '2023년02월_남여 비율']\n",
      "['전국  (1000000000)', '51,421,479', '23,757,654', '          2.16', '25,626,211', '25,795,268', '          0.99']\n",
      "['서울특별시  (1100000000)', '9,427,583', '4,457,982', '          2.11', '4,567,957', '4,859,626', '          0.94']\n",
      "['부산광역시  (2600000000)', '3,315,516', '1,559,593', '          2.13', '1,618,202', '1,697,314', '          0.95']\n",
      "['대구광역시  (2700000000)', '2,360,662', '1,072,255', '          2.20', '1,160,942', '1,199,720', '          0.97']\n",
      "['인천광역시  (2800000000)', '2,971,788', '1,326,947', '          2.24', '1,487,333', '1,484,455', '          1.00']\n",
      "['광주광역시  (2900000000)', '1,428,927', '653,209', '          2.19', '706,167', '722,760', '          0.98']\n",
      "['대전광역시  (3000000000)', '1,445,875', '675,760', '          2.14', '721,195', '724,680', '          1.00']\n",
      "['울산광역시  (3100000000)', '1,108,665', '486,823', '          2.28', '569,576', '539,089', '          1.06']\n",
      "['세종특별자치시  (3600000000)', '385,285', '160,012', '          2.41', '192,110', '193,175', '          0.99']\n",
      "['경기도  (4100000000)', '13,600,800', '5,927,894', '          2.29', '6,844,167', '6,756,633', '          1.01']\n",
      "['강원도  (4200000000)', '1,534,067', '756,314', '          2.03', '771,758', '762,309', '          1.01']\n",
      "['충청북도  (4300000000)', '1,593,434', '773,184', '          2.06', '810,305', '783,129', '          1.03']\n",
      "['충청남도  (4400000000)', '2,123,625', '1,022,584', '          2.08', '1,087,162', '1,036,463', '          1.05']\n",
      "['전라북도  (4500000000)', '1,766,524', '857,504', '          2.06', '879,065', '887,459', '          0.99']\n",
      "['전라남도  (4600000000)', '1,814,858', '908,722', '          2.00', '914,087', '900,771', '          1.01']\n",
      "['경상북도  (4700000000)', '2,594,399', '1,288,685', '          2.01', '1,309,417', '1,284,982', '          1.02']\n",
      "['경상남도  (4800000000)', '3,272,381', '1,518,385', '          2.16', '1,647,690', '1,624,691', '          1.01']\n",
      "['제주특별자치도  (5000000000)', '677,090', '311,801', '          2.17', '339,078', '338,012', '          1.00']\n"
     ]
    }
   ],
   "source": [
    "# 2023 데이터 읽기\n",
    "f2023 = open(hw4_2023_file_path, 'r', encoding='cp949')\n",
    "data = csv.reader(f2023)\n",
    "\n",
    "for row in data :\n",
    "    print(row)\n",
    "f2023.close()"
   ]
  },
  {
   "cell_type": "markdown",
   "id": "e4b7cd2d",
   "metadata": {},
   "source": [
    "### (2) 데이터 처리\n",
    "- csv 파일에서 17개 지역별 인구수를 읽어서 인구변동수를 계산한 후 배열에 저장한다.\n",
    "- 인구수를 처리할 때 콤마(,)를 빼고 숫자로 계산한다.\n",
    "- (replace 함수 사용)"
   ]
  },
  {
   "cell_type": "code",
   "execution_count": 26,
   "id": "80a9665f",
   "metadata": {},
   "outputs": [],
   "source": [
    "def getPopulation(data):\n",
    "    result = []\n",
    "    \n",
    "    for row in data:\n",
    "        result.append(int(row[1].replace(',', '')))\n",
    "        \n",
    "    return result"
   ]
  },
  {
   "cell_type": "code",
   "execution_count": 27,
   "id": "91adff3f",
   "metadata": {},
   "outputs": [],
   "source": [
    "def getArea(data):\n",
    "    result = []\n",
    "    \n",
    "    for row in data:\n",
    "        result.append(row[0].split(' ')[0])\n",
    "        \n",
    "    return result"
   ]
  },
  {
   "cell_type": "code",
   "execution_count": 28,
   "id": "3eeda9d1",
   "metadata": {},
   "outputs": [
    {
     "data": {
      "text/plain": [
       "[50991003,\n",
       " 10196434,\n",
       " 3539455,\n",
       " 2505040,\n",
       " 2850543,\n",
       " 1470969,\n",
       " 1527383,\n",
       " 1148713,\n",
       " 115269,\n",
       " 12123024,\n",
       " 1536718,\n",
       " 1565697,\n",
       " 2031839,\n",
       " 1872311,\n",
       " 1907027,\n",
       " 2696802,\n",
       " 3318548,\n",
       " 585231]"
      ]
     },
     "execution_count": 28,
     "metadata": {},
     "output_type": "execute_result"
    }
   ],
   "source": [
    "# 2013 , 뺀 값 저장\n",
    "f2013 = open(hw4_2013_file_path, 'r', encoding='cp949')\n",
    "data = csv.reader(f2013)\n",
    "\n",
    "# data 헤더 제거: '행정구역', '2023년02월_총인구수'... 제거\n",
    "next(data)\n",
    "\n",
    "result2013 = getPopulation(data)\n",
    "\n",
    "f2013.close()\n",
    "\n",
    "result2013"
   ]
  },
  {
   "cell_type": "code",
   "execution_count": 29,
   "id": "6d665e9a",
   "metadata": {},
   "outputs": [
    {
     "data": {
      "text/plain": [
       "[51421479,\n",
       " 9427583,\n",
       " 3315516,\n",
       " 2360662,\n",
       " 2971788,\n",
       " 1428927,\n",
       " 1445875,\n",
       " 1108665,\n",
       " 385285,\n",
       " 13600800,\n",
       " 1534067,\n",
       " 1593434,\n",
       " 2123625,\n",
       " 1766524,\n",
       " 1814858,\n",
       " 2594399,\n",
       " 3272381,\n",
       " 677090]"
      ]
     },
     "execution_count": 29,
     "metadata": {},
     "output_type": "execute_result"
    }
   ],
   "source": [
    "# 2023 , 뺀 값 저장\n",
    "f2023 = open(hw4_2023_file_path, 'r', encoding='cp949')\n",
    "data = csv.reader(f2023)\n",
    "\n",
    "# data 헤더 제거: '행정구역', '2023년02월_총인구수'... 제거\n",
    "next(data)\n",
    "\n",
    "result2023 = getPopulation(data)\n",
    "\n",
    "f2023.close()\n",
    "\n",
    "result2023"
   ]
  },
  {
   "cell_type": "code",
   "execution_count": 30,
   "id": "9ec4f488",
   "metadata": {},
   "outputs": [
    {
     "data": {
      "text/plain": [
       "['전국',\n",
       " '서울특별시',\n",
       " '부산광역시',\n",
       " '대구광역시',\n",
       " '인천광역시',\n",
       " '광주광역시',\n",
       " '대전광역시',\n",
       " '울산광역시',\n",
       " '세종특별자치시',\n",
       " '경기도',\n",
       " '강원도',\n",
       " '충청북도',\n",
       " '충청남도',\n",
       " '전라북도',\n",
       " '전라남도',\n",
       " '경상북도',\n",
       " '경상남도',\n",
       " '제주특별자치도']"
      ]
     },
     "execution_count": 30,
     "metadata": {},
     "output_type": "execute_result"
    }
   ],
   "source": [
    "# 지역명 저장\n",
    "f2023 = open(hw4_2023_file_path, 'r', encoding='cp949')\n",
    "data = csv.reader(f2023)\n",
    "next(data)\n",
    "\n",
    "area = getArea(data)\n",
    "\n",
    "f2023.close()\n",
    "\n",
    "area"
   ]
  },
  {
   "cell_type": "code",
   "execution_count": 31,
   "id": "a737b92d",
   "metadata": {},
   "outputs": [
    {
     "data": {
      "text/plain": [
       "[430476,\n",
       " -768851,\n",
       " -223939,\n",
       " -144378,\n",
       " 121245,\n",
       " -42042,\n",
       " -81508,\n",
       " -40048,\n",
       " 270016,\n",
       " 1477776,\n",
       " -2651,\n",
       " 27737,\n",
       " 91786,\n",
       " -105787,\n",
       " -92169,\n",
       " -102403,\n",
       " -46167,\n",
       " 91859]"
      ]
     },
     "execution_count": 31,
     "metadata": {},
     "output_type": "execute_result"
    }
   ],
   "source": [
    "# 인구변동수 저장\n",
    "result = []\n",
    "\n",
    "for i in range(len(result2013)):\n",
    "    result.append(result2023[i] - result2013[i])\n",
    "\n",
    "result"
   ]
  },
  {
   "cell_type": "markdown",
   "id": "693c6157",
   "metadata": {},
   "source": [
    "### (3) bar 차트를 그린다.\n",
    "- (참고: https://python-graph-gallery.com/1-basic-barplot/ ) import matplotlib.pyplot as plt\n",
    "- plt.bar( )\n",
    "- plt.savefig( )"
   ]
  },
  {
   "cell_type": "code",
   "execution_count": 32,
   "id": "20b5ebc7",
   "metadata": {},
   "outputs": [
    {
     "name": "stderr",
     "output_type": "stream",
     "text": [
      "/Users/min0/Downloads/anaconda3/lib/python3.9/site-packages/IPython/core/pylabtools.py:151: UserWarning: Glyph 8722 (\\N{MINUS SIGN}) missing from current font.\n",
      "  fig.canvas.print_figure(bytes_io, **kw)\n"
     ]
    },
    {
     "data": {
      "image/png": "[encoded data removed]",
      "text/plain": [
       "<Figure size 640x480 with 1 Axes>"
      ]
     },
     "metadata": {},
     "output_type": "display_data"
    }
   ],
   "source": [
    "# bar 차트 그리기\n",
    "plt.bar(area, result)\n",
    "plt.rcParams['font.family'] = 'AppleGothic'\n",
    "plt.xticks(rotation=90) \n",
    "plt.show()"
   ]
  },
  {
   "cell_type": "code",
   "execution_count": 33,
   "id": "64e91322",
   "metadata": {},
   "outputs": [
    {
     "data": {
      "text/plain": [
       "[Text(0, 0, '430476'),\n",
       " Text(0, 0, '-768851'),\n",
       " Text(0, 0, '-223939'),\n",
       " Text(0, 0, '-144378'),\n",
       " Text(0, 0, '121245'),\n",
       " Text(0, 0, '-42042'),\n",
       " Text(0, 0, '-81508'),\n",
       " Text(0, 0, '-40048'),\n",
       " Text(0, 0, '270016'),\n",
       " Text(0, 0, '1.47778e+06'),\n",
       " Text(0, 0, '-2651'),\n",
       " Text(0, 0, '27737'),\n",
       " Text(0, 0, '91786'),\n",
       " Text(0, 0, '-105787'),\n",
       " Text(0, 0, '-92169'),\n",
       " Text(0, 0, '-102403'),\n",
       " Text(0, 0, '-46167'),\n",
       " Text(0, 0, '91859')]"
      ]
     },
     "execution_count": 33,
     "metadata": {},
     "output_type": "execute_result"
    },
    {
     "name": "stderr",
     "output_type": "stream",
     "text": [
      "/Users/min0/Downloads/anaconda3/lib/python3.9/site-packages/IPython/core/pylabtools.py:151: UserWarning: Glyph 8722 (\\N{MINUS SIGN}) missing from current font.\n",
      "  fig.canvas.print_figure(bytes_io, **kw)\n"
     ]
    },
    {
     "data": {
      "image/png": "[encoded data removed]",
      "text/plain": [
       "<Figure size 640x480 with 1 Axes>"
      ]
     },
     "metadata": {},
     "output_type": "display_data"
    }
   ],
   "source": [
    "# 바에 레이블 추가\n",
    "fig, ax = plt.subplots()\n",
    "bar_container = ax.bar(area, result)\n",
    "plt.xticks(rotation=90)\n",
    "ax.bar_label(bar_container)"
   ]
  },
  {
   "cell_type": "code",
   "execution_count": 34,
   "id": "2f7515a8",
   "metadata": {},
   "outputs": [
    {
     "data": {
      "text/plain": [
       "<Figure size 640x480 with 0 Axes>"
      ]
     },
     "metadata": {},
     "output_type": "display_data"
    }
   ],
   "source": [
    "# 차트 저장\n",
    "plt.savefig('hw4_graph.png',\n",
    "            facecolor='#eeeeee',\n",
    "            edgecolor='black',\n",
    "            format='png', dpi=200)"
   ]
  },
  {
   "cell_type": "markdown",
   "id": "066363b4",
   "metadata": {},
   "source": [
    "### 각 지역별 인구 변동을 2013년2월, 2023년2월에 대하여 그래프로 그려보시요. \n",
    "### 즉 Q4.1 문제를 pandas 로 읽어서 처리해본다\n",
    "- [방법]\n",
    "- (1) 필요한 파일을 받아온다.\n",
    "- (2) pandas 를 이용하여 데이터를 처리한다"
   ]
  },
  {
   "cell_type": "code",
   "execution_count": 35,
   "id": "9ed62127",
   "metadata": {},
   "outputs": [],
   "source": [
    "import pandas as pd"
   ]
  },
  {
   "cell_type": "code",
   "execution_count": 36,
   "id": "47a6c204",
   "metadata": {},
   "outputs": [
    {
     "data": {
      "text/html": [
       "<div>\n",
       "<style scoped>\n",
       "    .dataframe tbody tr th:only-of-type {\n",
       "        vertical-align: middle;\n",
       "    }\n",
       "\n",
       "    .dataframe tbody tr th {\n",
       "        vertical-align: top;\n",
       "    }\n",
       "\n",
       "    .dataframe thead th {\n",
       "        text-align: right;\n",
       "    }\n",
       "</style>\n",
       "<table border=\"1\" class=\"dataframe\">\n",
       "  <thead>\n",
       "    <tr style=\"text-align: right;\">\n",
       "      <th></th>\n",
       "      <th>행정구역</th>\n",
       "      <th>2013년02월_총인구수</th>\n",
       "      <th>2013년02월_세대수</th>\n",
       "      <th>2013년02월_세대당 인구</th>\n",
       "      <th>2013년02월_남자 인구수</th>\n",
       "      <th>2013년02월_여자 인구수</th>\n",
       "      <th>2013년02월_남여 비율</th>\n",
       "    </tr>\n",
       "  </thead>\n",
       "  <tbody>\n",
       "    <tr>\n",
       "      <th>0</th>\n",
       "      <td>전국  (1000000000)</td>\n",
       "      <td>50,991,003</td>\n",
       "      <td>20,248,440</td>\n",
       "      <td>2.52</td>\n",
       "      <td>25,523,833</td>\n",
       "      <td>25,467,170</td>\n",
       "      <td>1.00</td>\n",
       "    </tr>\n",
       "    <tr>\n",
       "      <th>1</th>\n",
       "      <td>서울특별시  (1100000000)</td>\n",
       "      <td>10,196,434</td>\n",
       "      <td>4,181,574</td>\n",
       "      <td>2.44</td>\n",
       "      <td>5,039,921</td>\n",
       "      <td>5,156,513</td>\n",
       "      <td>0.98</td>\n",
       "    </tr>\n",
       "    <tr>\n",
       "      <th>2</th>\n",
       "      <td>부산광역시  (2600000000)</td>\n",
       "      <td>3,539,455</td>\n",
       "      <td>1,392,593</td>\n",
       "      <td>2.54</td>\n",
       "      <td>1,754,758</td>\n",
       "      <td>1,784,697</td>\n",
       "      <td>0.98</td>\n",
       "    </tr>\n",
       "    <tr>\n",
       "      <th>3</th>\n",
       "      <td>대구광역시  (2700000000)</td>\n",
       "      <td>2,505,040</td>\n",
       "      <td>950,116</td>\n",
       "      <td>2.64</td>\n",
       "      <td>1,248,840</td>\n",
       "      <td>1,256,200</td>\n",
       "      <td>0.99</td>\n",
       "    </tr>\n",
       "    <tr>\n",
       "      <th>4</th>\n",
       "      <td>인천광역시  (2800000000)</td>\n",
       "      <td>2,850,543</td>\n",
       "      <td>1,100,751</td>\n",
       "      <td>2.59</td>\n",
       "      <td>1,434,674</td>\n",
       "      <td>1,415,869</td>\n",
       "      <td>1.01</td>\n",
       "    </tr>\n",
       "    <tr>\n",
       "      <th>5</th>\n",
       "      <td>광주광역시  (2900000000)</td>\n",
       "      <td>1,470,969</td>\n",
       "      <td>556,633</td>\n",
       "      <td>2.64</td>\n",
       "      <td>729,362</td>\n",
       "      <td>741,607</td>\n",
       "      <td>0.98</td>\n",
       "    </tr>\n",
       "    <tr>\n",
       "      <th>6</th>\n",
       "      <td>대전광역시  (3000000000)</td>\n",
       "      <td>1,527,383</td>\n",
       "      <td>577,469</td>\n",
       "      <td>2.64</td>\n",
       "      <td>764,912</td>\n",
       "      <td>762,471</td>\n",
       "      <td>1.00</td>\n",
       "    </tr>\n",
       "    <tr>\n",
       "      <th>7</th>\n",
       "      <td>울산광역시  (3100000000)</td>\n",
       "      <td>1,148,713</td>\n",
       "      <td>423,523</td>\n",
       "      <td>2.71</td>\n",
       "      <td>591,328</td>\n",
       "      <td>557,385</td>\n",
       "      <td>1.06</td>\n",
       "    </tr>\n",
       "    <tr>\n",
       "      <th>8</th>\n",
       "      <td>세종특별자치시  (3600000000)</td>\n",
       "      <td>115,269</td>\n",
       "      <td>47,246</td>\n",
       "      <td>2.44</td>\n",
       "      <td>58,788</td>\n",
       "      <td>56,481</td>\n",
       "      <td>1.04</td>\n",
       "    </tr>\n",
       "    <tr>\n",
       "      <th>9</th>\n",
       "      <td>경기도  (4100000000)</td>\n",
       "      <td>12,123,024</td>\n",
       "      <td>4,651,451</td>\n",
       "      <td>2.61</td>\n",
       "      <td>6,105,695</td>\n",
       "      <td>6,017,329</td>\n",
       "      <td>1.01</td>\n",
       "    </tr>\n",
       "    <tr>\n",
       "      <th>10</th>\n",
       "      <td>강원도  (4200000000)</td>\n",
       "      <td>1,536,718</td>\n",
       "      <td>654,835</td>\n",
       "      <td>2.35</td>\n",
       "      <td>773,279</td>\n",
       "      <td>763,439</td>\n",
       "      <td>1.01</td>\n",
       "    </tr>\n",
       "    <tr>\n",
       "      <th>11</th>\n",
       "      <td>충청북도  (4300000000)</td>\n",
       "      <td>1,565,697</td>\n",
       "      <td>634,382</td>\n",
       "      <td>2.47</td>\n",
       "      <td>789,423</td>\n",
       "      <td>776,274</td>\n",
       "      <td>1.02</td>\n",
       "    </tr>\n",
       "    <tr>\n",
       "      <th>12</th>\n",
       "      <td>충청남도  (4400000000)</td>\n",
       "      <td>2,031,839</td>\n",
       "      <td>844,895</td>\n",
       "      <td>2.40</td>\n",
       "      <td>1,028,533</td>\n",
       "      <td>1,003,306</td>\n",
       "      <td>1.03</td>\n",
       "    </tr>\n",
       "    <tr>\n",
       "      <th>13</th>\n",
       "      <td>전라북도  (4500000000)</td>\n",
       "      <td>1,872,311</td>\n",
       "      <td>761,049</td>\n",
       "      <td>2.46</td>\n",
       "      <td>932,775</td>\n",
       "      <td>939,536</td>\n",
       "      <td>0.99</td>\n",
       "    </tr>\n",
       "    <tr>\n",
       "      <th>14</th>\n",
       "      <td>전라남도  (4600000000)</td>\n",
       "      <td>1,907,027</td>\n",
       "      <td>808,704</td>\n",
       "      <td>2.36</td>\n",
       "      <td>953,187</td>\n",
       "      <td>953,840</td>\n",
       "      <td>1.00</td>\n",
       "    </tr>\n",
       "    <tr>\n",
       "      <th>15</th>\n",
       "      <td>경상북도  (4700000000)</td>\n",
       "      <td>2,696,802</td>\n",
       "      <td>1,126,942</td>\n",
       "      <td>2.39</td>\n",
       "      <td>1,354,904</td>\n",
       "      <td>1,341,898</td>\n",
       "      <td>1.01</td>\n",
       "    </tr>\n",
       "    <tr>\n",
       "      <th>16</th>\n",
       "      <td>경상남도  (4800000000)</td>\n",
       "      <td>3,318,548</td>\n",
       "      <td>1,303,194</td>\n",
       "      <td>2.55</td>\n",
       "      <td>1,670,391</td>\n",
       "      <td>1,648,157</td>\n",
       "      <td>1.01</td>\n",
       "    </tr>\n",
       "    <tr>\n",
       "      <th>17</th>\n",
       "      <td>제주특별자치도  (5000000000)</td>\n",
       "      <td>585,231</td>\n",
       "      <td>233,083</td>\n",
       "      <td>2.51</td>\n",
       "      <td>293,063</td>\n",
       "      <td>292,168</td>\n",
       "      <td>1.00</td>\n",
       "    </tr>\n",
       "  </tbody>\n",
       "</table>\n",
       "</div>"
      ],
      "text/plain": [
       "                     행정구역 2013년02월_총인구수 2013년02월_세대수  2013년02월_세대당 인구  \\\n",
       "0        전국  (1000000000)    50,991,003   20,248,440             2.52   \n",
       "1     서울특별시  (1100000000)    10,196,434    4,181,574             2.44   \n",
       "2     부산광역시  (2600000000)     3,539,455    1,392,593             2.54   \n",
       "3     대구광역시  (2700000000)     2,505,040      950,116             2.64   \n",
       "4     인천광역시  (2800000000)     2,850,543    1,100,751             2.59   \n",
       "5     광주광역시  (2900000000)     1,470,969      556,633             2.64   \n",
       "6     대전광역시  (3000000000)     1,527,383      577,469             2.64   \n",
       "7     울산광역시  (3100000000)     1,148,713      423,523             2.71   \n",
       "8   세종특별자치시  (3600000000)       115,269       47,246             2.44   \n",
       "9       경기도  (4100000000)    12,123,024    4,651,451             2.61   \n",
       "10      강원도  (4200000000)     1,536,718      654,835             2.35   \n",
       "11     충청북도  (4300000000)     1,565,697      634,382             2.47   \n",
       "12     충청남도  (4400000000)     2,031,839      844,895             2.40   \n",
       "13     전라북도  (4500000000)     1,872,311      761,049             2.46   \n",
       "14     전라남도  (4600000000)     1,907,027      808,704             2.36   \n",
       "15     경상북도  (4700000000)     2,696,802    1,126,942             2.39   \n",
       "16     경상남도  (4800000000)     3,318,548    1,303,194             2.55   \n",
       "17  제주특별자치도  (5000000000)       585,231      233,083             2.51   \n",
       "\n",
       "   2013년02월_남자 인구수 2013년02월_여자 인구수  2013년02월_남여 비율  \n",
       "0       25,523,833      25,467,170            1.00  \n",
       "1        5,039,921       5,156,513            0.98  \n",
       "2        1,754,758       1,784,697            0.98  \n",
       "3        1,248,840       1,256,200            0.99  \n",
       "4        1,434,674       1,415,869            1.01  \n",
       "5          729,362         741,607            0.98  \n",
       "6          764,912         762,471            1.00  \n",
       "7          591,328         557,385            1.06  \n",
       "8           58,788          56,481            1.04  \n",
       "9        6,105,695       6,017,329            1.01  \n",
       "10         773,279         763,439            1.01  \n",
       "11         789,423         776,274            1.02  \n",
       "12       1,028,533       1,003,306            1.03  \n",
       "13         932,775         939,536            0.99  \n",
       "14         953,187         953,840            1.00  \n",
       "15       1,354,904       1,341,898            1.01  \n",
       "16       1,670,391       1,648,157            1.01  \n",
       "17         293,063         292,168            1.00  "
      ]
     },
     "execution_count": 36,
     "metadata": {},
     "output_type": "execute_result"
    }
   ],
   "source": [
    "data2013 = pd.read_csv(hw4_2013_file_path, encoding='cp949')\n",
    "data2013"
   ]
  },
  {
   "cell_type": "code",
   "execution_count": 37,
   "id": "696478b5",
   "metadata": {},
   "outputs": [
    {
     "data": {
      "text/html": [
       "<div>\n",
       "<style scoped>\n",
       "    .dataframe tbody tr th:only-of-type {\n",
       "        vertical-align: middle;\n",
       "    }\n",
       "\n",
       "    .dataframe tbody tr th {\n",
       "        vertical-align: top;\n",
       "    }\n",
       "\n",
       "    .dataframe thead th {\n",
       "        text-align: right;\n",
       "    }\n",
       "</style>\n",
       "<table border=\"1\" class=\"dataframe\">\n",
       "  <thead>\n",
       "    <tr style=\"text-align: right;\">\n",
       "      <th></th>\n",
       "      <th>행정구역</th>\n",
       "      <th>2023년02월_총인구수</th>\n",
       "      <th>2023년02월_세대수</th>\n",
       "      <th>2023년02월_세대당 인구</th>\n",
       "      <th>2023년02월_남자 인구수</th>\n",
       "      <th>2023년02월_여자 인구수</th>\n",
       "      <th>2023년02월_남여 비율</th>\n",
       "    </tr>\n",
       "  </thead>\n",
       "  <tbody>\n",
       "    <tr>\n",
       "      <th>0</th>\n",
       "      <td>전국  (1000000000)</td>\n",
       "      <td>51,421,479</td>\n",
       "      <td>23,757,654</td>\n",
       "      <td>2.16</td>\n",
       "      <td>25,626,211</td>\n",
       "      <td>25,795,268</td>\n",
       "      <td>0.99</td>\n",
       "    </tr>\n",
       "    <tr>\n",
       "      <th>1</th>\n",
       "      <td>서울특별시  (1100000000)</td>\n",
       "      <td>9,427,583</td>\n",
       "      <td>4,457,982</td>\n",
       "      <td>2.11</td>\n",
       "      <td>4,567,957</td>\n",
       "      <td>4,859,626</td>\n",
       "      <td>0.94</td>\n",
       "    </tr>\n",
       "    <tr>\n",
       "      <th>2</th>\n",
       "      <td>부산광역시  (2600000000)</td>\n",
       "      <td>3,315,516</td>\n",
       "      <td>1,559,593</td>\n",
       "      <td>2.13</td>\n",
       "      <td>1,618,202</td>\n",
       "      <td>1,697,314</td>\n",
       "      <td>0.95</td>\n",
       "    </tr>\n",
       "    <tr>\n",
       "      <th>3</th>\n",
       "      <td>대구광역시  (2700000000)</td>\n",
       "      <td>2,360,662</td>\n",
       "      <td>1,072,255</td>\n",
       "      <td>2.20</td>\n",
       "      <td>1,160,942</td>\n",
       "      <td>1,199,720</td>\n",
       "      <td>0.97</td>\n",
       "    </tr>\n",
       "    <tr>\n",
       "      <th>4</th>\n",
       "      <td>인천광역시  (2800000000)</td>\n",
       "      <td>2,971,788</td>\n",
       "      <td>1,326,947</td>\n",
       "      <td>2.24</td>\n",
       "      <td>1,487,333</td>\n",
       "      <td>1,484,455</td>\n",
       "      <td>1.00</td>\n",
       "    </tr>\n",
       "    <tr>\n",
       "      <th>5</th>\n",
       "      <td>광주광역시  (2900000000)</td>\n",
       "      <td>1,428,927</td>\n",
       "      <td>653,209</td>\n",
       "      <td>2.19</td>\n",
       "      <td>706,167</td>\n",
       "      <td>722,760</td>\n",
       "      <td>0.98</td>\n",
       "    </tr>\n",
       "    <tr>\n",
       "      <th>6</th>\n",
       "      <td>대전광역시  (3000000000)</td>\n",
       "      <td>1,445,875</td>\n",
       "      <td>675,760</td>\n",
       "      <td>2.14</td>\n",
       "      <td>721,195</td>\n",
       "      <td>724,680</td>\n",
       "      <td>1.00</td>\n",
       "    </tr>\n",
       "    <tr>\n",
       "      <th>7</th>\n",
       "      <td>울산광역시  (3100000000)</td>\n",
       "      <td>1,108,665</td>\n",
       "      <td>486,823</td>\n",
       "      <td>2.28</td>\n",
       "      <td>569,576</td>\n",
       "      <td>539,089</td>\n",
       "      <td>1.06</td>\n",
       "    </tr>\n",
       "    <tr>\n",
       "      <th>8</th>\n",
       "      <td>세종특별자치시  (3600000000)</td>\n",
       "      <td>385,285</td>\n",
       "      <td>160,012</td>\n",
       "      <td>2.41</td>\n",
       "      <td>192,110</td>\n",
       "      <td>193,175</td>\n",
       "      <td>0.99</td>\n",
       "    </tr>\n",
       "    <tr>\n",
       "      <th>9</th>\n",
       "      <td>경기도  (4100000000)</td>\n",
       "      <td>13,600,800</td>\n",
       "      <td>5,927,894</td>\n",
       "      <td>2.29</td>\n",
       "      <td>6,844,167</td>\n",
       "      <td>6,756,633</td>\n",
       "      <td>1.01</td>\n",
       "    </tr>\n",
       "    <tr>\n",
       "      <th>10</th>\n",
       "      <td>강원도  (4200000000)</td>\n",
       "      <td>1,534,067</td>\n",
       "      <td>756,314</td>\n",
       "      <td>2.03</td>\n",
       "      <td>771,758</td>\n",
       "      <td>762,309</td>\n",
       "      <td>1.01</td>\n",
       "    </tr>\n",
       "    <tr>\n",
       "      <th>11</th>\n",
       "      <td>충청북도  (4300000000)</td>\n",
       "      <td>1,593,434</td>\n",
       "      <td>773,184</td>\n",
       "      <td>2.06</td>\n",
       "      <td>810,305</td>\n",
       "      <td>783,129</td>\n",
       "      <td>1.03</td>\n",
       "    </tr>\n",
       "    <tr>\n",
       "      <th>12</th>\n",
       "      <td>충청남도  (4400000000)</td>\n",
       "      <td>2,123,625</td>\n",
       "      <td>1,022,584</td>\n",
       "      <td>2.08</td>\n",
       "      <td>1,087,162</td>\n",
       "      <td>1,036,463</td>\n",
       "      <td>1.05</td>\n",
       "    </tr>\n",
       "    <tr>\n",
       "      <th>13</th>\n",
       "      <td>전라북도  (4500000000)</td>\n",
       "      <td>1,766,524</td>\n",
       "      <td>857,504</td>\n",
       "      <td>2.06</td>\n",
       "      <td>879,065</td>\n",
       "      <td>887,459</td>\n",
       "      <td>0.99</td>\n",
       "    </tr>\n",
       "    <tr>\n",
       "      <th>14</th>\n",
       "      <td>전라남도  (4600000000)</td>\n",
       "      <td>1,814,858</td>\n",
       "      <td>908,722</td>\n",
       "      <td>2.00</td>\n",
       "      <td>914,087</td>\n",
       "      <td>900,771</td>\n",
       "      <td>1.01</td>\n",
       "    </tr>\n",
       "    <tr>\n",
       "      <th>15</th>\n",
       "      <td>경상북도  (4700000000)</td>\n",
       "      <td>2,594,399</td>\n",
       "      <td>1,288,685</td>\n",
       "      <td>2.01</td>\n",
       "      <td>1,309,417</td>\n",
       "      <td>1,284,982</td>\n",
       "      <td>1.02</td>\n",
       "    </tr>\n",
       "    <tr>\n",
       "      <th>16</th>\n",
       "      <td>경상남도  (4800000000)</td>\n",
       "      <td>3,272,381</td>\n",
       "      <td>1,518,385</td>\n",
       "      <td>2.16</td>\n",
       "      <td>1,647,690</td>\n",
       "      <td>1,624,691</td>\n",
       "      <td>1.01</td>\n",
       "    </tr>\n",
       "    <tr>\n",
       "      <th>17</th>\n",
       "      <td>제주특별자치도  (5000000000)</td>\n",
       "      <td>677,090</td>\n",
       "      <td>311,801</td>\n",
       "      <td>2.17</td>\n",
       "      <td>339,078</td>\n",
       "      <td>338,012</td>\n",
       "      <td>1.00</td>\n",
       "    </tr>\n",
       "  </tbody>\n",
       "</table>\n",
       "</div>"
      ],
      "text/plain": [
       "                     행정구역 2023년02월_총인구수 2023년02월_세대수  2023년02월_세대당 인구  \\\n",
       "0        전국  (1000000000)    51,421,479   23,757,654             2.16   \n",
       "1     서울특별시  (1100000000)     9,427,583    4,457,982             2.11   \n",
       "2     부산광역시  (2600000000)     3,315,516    1,559,593             2.13   \n",
       "3     대구광역시  (2700000000)     2,360,662    1,072,255             2.20   \n",
       "4     인천광역시  (2800000000)     2,971,788    1,326,947             2.24   \n",
       "5     광주광역시  (2900000000)     1,428,927      653,209             2.19   \n",
       "6     대전광역시  (3000000000)     1,445,875      675,760             2.14   \n",
       "7     울산광역시  (3100000000)     1,108,665      486,823             2.28   \n",
       "8   세종특별자치시  (3600000000)       385,285      160,012             2.41   \n",
       "9       경기도  (4100000000)    13,600,800    5,927,894             2.29   \n",
       "10      강원도  (4200000000)     1,534,067      756,314             2.03   \n",
       "11     충청북도  (4300000000)     1,593,434      773,184             2.06   \n",
       "12     충청남도  (4400000000)     2,123,625    1,022,584             2.08   \n",
       "13     전라북도  (4500000000)     1,766,524      857,504             2.06   \n",
       "14     전라남도  (4600000000)     1,814,858      908,722             2.00   \n",
       "15     경상북도  (4700000000)     2,594,399    1,288,685             2.01   \n",
       "16     경상남도  (4800000000)     3,272,381    1,518,385             2.16   \n",
       "17  제주특별자치도  (5000000000)       677,090      311,801             2.17   \n",
       "\n",
       "   2023년02월_남자 인구수 2023년02월_여자 인구수  2023년02월_남여 비율  \n",
       "0       25,626,211      25,795,268            0.99  \n",
       "1        4,567,957       4,859,626            0.94  \n",
       "2        1,618,202       1,697,314            0.95  \n",
       "3        1,160,942       1,199,720            0.97  \n",
       "4        1,487,333       1,484,455            1.00  \n",
       "5          706,167         722,760            0.98  \n",
       "6          721,195         724,680            1.00  \n",
       "7          569,576         539,089            1.06  \n",
       "8          192,110         193,175            0.99  \n",
       "9        6,844,167       6,756,633            1.01  \n",
       "10         771,758         762,309            1.01  \n",
       "11         810,305         783,129            1.03  \n",
       "12       1,087,162       1,036,463            1.05  \n",
       "13         879,065         887,459            0.99  \n",
       "14         914,087         900,771            1.01  \n",
       "15       1,309,417       1,284,982            1.02  \n",
       "16       1,647,690       1,624,691            1.01  \n",
       "17         339,078         338,012            1.00  "
      ]
     },
     "execution_count": 37,
     "metadata": {},
     "output_type": "execute_result"
    }
   ],
   "source": [
    "data2023 = pd.read_csv(hw4_2023_file_path, encoding='cp949')\n",
    "data2023"
   ]
  },
  {
   "cell_type": "code",
   "execution_count": 38,
   "id": "95cc2273",
   "metadata": {},
   "outputs": [
    {
     "data": {
      "text/plain": [
       "0     50991003\n",
       "1     10196434\n",
       "2      3539455\n",
       "3      2505040\n",
       "4      2850543\n",
       "5      1470969\n",
       "6      1527383\n",
       "7      1148713\n",
       "8       115269\n",
       "9     12123024\n",
       "10     1536718\n",
       "11     1565697\n",
       "12     2031839\n",
       "13     1872311\n",
       "14     1907027\n",
       "15     2696802\n",
       "16     3318548\n",
       "17      585231\n",
       "Name: 2013년02월_총인구수, dtype: int64"
      ]
     },
     "execution_count": 38,
     "metadata": {},
     "output_type": "execute_result"
    }
   ],
   "source": [
    "df2013 = data2013['2013년02월_총인구수'].replace(',','', regex=True).astype(int)\n",
    "df2013"
   ]
  },
  {
   "cell_type": "code",
   "execution_count": 39,
   "id": "fdf0a00d",
   "metadata": {},
   "outputs": [
    {
     "data": {
      "text/plain": [
       "0     51421479\n",
       "1      9427583\n",
       "2      3315516\n",
       "3      2360662\n",
       "4      2971788\n",
       "5      1428927\n",
       "6      1445875\n",
       "7      1108665\n",
       "8       385285\n",
       "9     13600800\n",
       "10     1534067\n",
       "11     1593434\n",
       "12     2123625\n",
       "13     1766524\n",
       "14     1814858\n",
       "15     2594399\n",
       "16     3272381\n",
       "17      677090\n",
       "Name: 2023년02월_총인구수, dtype: int64"
      ]
     },
     "execution_count": 39,
     "metadata": {},
     "output_type": "execute_result"
    }
   ],
   "source": [
    "df2023 = data2023['2023년02월_총인구수'].replace(',','', regex=True).astype(int)\n",
    "df2023"
   ]
  },
  {
   "cell_type": "code",
   "execution_count": 40,
   "id": "93ac55b1",
   "metadata": {},
   "outputs": [
    {
     "data": {
      "text/plain": [
       "0      430476\n",
       "1     -768851\n",
       "2     -223939\n",
       "3     -144378\n",
       "4      121245\n",
       "5      -42042\n",
       "6      -81508\n",
       "7      -40048\n",
       "8      270016\n",
       "9     1477776\n",
       "10      -2651\n",
       "11      27737\n",
       "12      91786\n",
       "13    -105787\n",
       "14     -92169\n",
       "15    -102403\n",
       "16     -46167\n",
       "17      91859\n",
       "dtype: int64"
      ]
     },
     "execution_count": 40,
     "metadata": {},
     "output_type": "execute_result"
    }
   ],
   "source": [
    "result = df2023 - df2013\n",
    "result"
   ]
  },
  {
   "cell_type": "code",
   "execution_count": 41,
   "id": "5bdc6ee9",
   "metadata": {},
   "outputs": [
    {
     "name": "stderr",
     "output_type": "stream",
     "text": [
      "/Users/min0/Downloads/anaconda3/lib/python3.9/site-packages/IPython/core/pylabtools.py:151: UserWarning: Glyph 8722 (\\N{MINUS SIGN}) missing from current font.\n",
      "  fig.canvas.print_figure(bytes_io, **kw)\n"
     ]
    },
    {
     "data": {
      "image/png": "[encoded data removed]",
      "text/plain": [
       "<Figure size 640x480 with 1 Axes>"
      ]
     },
     "metadata": {},
     "output_type": "display_data"
    }
   ],
   "source": [
    "# bar 차트 출력\n",
    "plt.bar(area, result)\n",
    "plt.rcParams['font.family'] = 'AppleGothic'\n",
    "plt.xticks(rotation=90) \n",
    "plt.show()"
   ]
  },
  {
   "cell_type": "code",
   "execution_count": null,
   "id": "d8fe245c",
   "metadata": {},
   "outputs": [],
   "source": []
  }
 ],
 "metadata": {
  "kernelspec": {
   "display_name": "Python 3 (ipykernel)",
   "language": "python",
   "name": "python3"
  },
  "language_info": {
   "codemirror_mode": {
    "name": "ipython",
    "version": 3
   },
   "file_extension": ".py",
   "mimetype": "text/x-python",
   "name": "python",
   "nbconvert_exporter": "python",
   "pygments_lexer": "ipython3",
   "version": "3.9.13"
  }
 },
 "nbformat": 4,
 "nbformat_minor": 5
}
