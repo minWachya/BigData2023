{
 "cells": [
  {
   "cell_type": "markdown",
   "id": "16e5e2d5",
   "metadata": {},
   "source": [
    "## 목차\n",
    "- 기술통계\n",
    "    1. 변수와 척도\n",
    "    2. 도수분포표와 히스토그램\n",
    "    3. 중심경향치 (평균, 최빈치, 중앙값)\n",
    "    4. 변산성 측정치 (분산, 표준편차, 범위, 사분위간 범위)\n",
    "- 상관분석\n",
    "    1. 공분산\n",
    "    2. 상관계수\n",
    "    3. 상관계수의 통계적 검증\n",
    "    4.유의할 점"
   ]
  },
  {
   "cell_type": "markdown",
   "id": "edd5b70a",
   "metadata": {},
   "source": [
    "-----"
   ]
  },
  {
   "cell_type": "markdown",
   "id": "8c45a1a9",
   "metadata": {},
   "source": [
    "# 기술 통계"
   ]
  },
  {
   "cell_type": "markdown",
   "id": "1ef53851",
   "metadata": {},
   "source": [
    "## 1. 변수와 척도\n",
    "- https://mindscale.kr/course/basic-stat-python/1/\n",
    "- 척도<외우세요\n",
    "1. 명명척도<아무것도 없음: 혈액형\n",
    "2. 서열척도<순서 생김: 직급\n",
    "3. 등간척도<덧셈뺄셈 가능: 온도\n",
    "4. 비율척도<비율까지: 길이"
   ]
  },
  {
   "cell_type": "markdown",
   "id": "e5626e9c",
   "metadata": {},
   "source": [
    "-----"
   ]
  },
  {
   "cell_type": "markdown",
   "id": "19aaac98",
   "metadata": {},
   "source": [
    "## 2. 도수분포표와 히스토그램\n",
    "- (https://mindscale.kr/course/basic-stat-python/2/)"
   ]
  },
  {
   "cell_type": "markdown",
   "id": "dcd39db1",
   "metadata": {},
   "source": [
    "1. 범주변수"
   ]
  },
  {
   "cell_type": "code",
   "execution_count": 9,
   "id": "ecc1d238",
   "metadata": {},
   "outputs": [
    {
     "data": {
      "text/plain": [
       "(array(['A', 'AB', 'B', 'O'], dtype='<U2'), array([3, 1, 2, 1]))"
      ]
     },
     "execution_count": 9,
     "metadata": {},
     "output_type": "execute_result"
    }
   ],
   "source": [
    "# numpy 사용\n",
    "import numpy as np\n",
    "\n",
    "blood = ['A', 'A', 'A', 'B', 'B', 'AB', 'O']\n",
    "np.unique(blood, return_counts=True)"
   ]
  },
  {
   "cell_type": "code",
   "execution_count": 10,
   "id": "a99c5af2",
   "metadata": {},
   "outputs": [
    {
     "data": {
      "text/plain": [
       "A     3\n",
       "B     2\n",
       "AB    1\n",
       "O     1\n",
       "dtype: int64"
      ]
     },
     "execution_count": 10,
     "metadata": {},
     "output_type": "execute_result"
    }
   ],
   "source": [
    "# pandas 사용\n",
    "import pandas as pd\n",
    "pd.Series(blood).value_counts()"
   ]
  },
  {
   "cell_type": "code",
   "execution_count": 11,
   "id": "97b420b7",
   "metadata": {},
   "outputs": [
    {
     "name": "stderr",
     "output_type": "stream",
     "text": [
      "/Users/min0/Downloads/anaconda3/lib/python3.9/site-packages/seaborn/_decorators.py:36: FutureWarning: Pass the following variable as a keyword arg: x. From version 0.12, the only valid positional argument will be `data`, and passing other arguments without an explicit keyword will result in an error or misinterpretation.\n",
      "  warnings.warn(\n"
     ]
    },
    {
     "data": {
      "text/plain": [
       "<AxesSubplot:ylabel='count'>"
      ]
     },
     "execution_count": 11,
     "metadata": {},
     "output_type": "execute_result"
    },
    {
     "data": {
      "image/png": "[encoded data removed]",
      "text/plain": [
       "<Figure size 640x480 with 1 Axes>"
      ]
     },
     "metadata": {},
     "output_type": "display_data"
    }
   ],
   "source": [
    "# 시각화\n",
    "import seaborn as sns\n",
    "sns.countplot(blood)"
   ]
  },
  {
   "cell_type": "markdown",
   "id": "38d757c2",
   "metadata": {},
   "source": [
    "2. 연속변수"
   ]
  },
  {
   "cell_type": "code",
   "execution_count": 19,
   "id": "19f17026",
   "metadata": {},
   "outputs": [],
   "source": [
    "x = [1, 1, 1, 2, 3, 5, 5, 7, 8, 9]"
   ]
  },
  {
   "cell_type": "code",
   "execution_count": 20,
   "id": "f95d56af",
   "metadata": {},
   "outputs": [
    {
     "name": "stdout",
     "output_type": "stream",
     "text": [
      "[4 1 2 3]\n",
      "[1. 3. 5. 7. 9.]\n"
     ]
    }
   ],
   "source": [
    "hist, edges = np.histogram(x, 4) # 데이터 범위를 4구간으로 나눔\n",
    "print(hist)\n",
    "print(edges)"
   ]
  },
  {
   "cell_type": "code",
   "execution_count": 21,
   "id": "55d3cef2",
   "metadata": {},
   "outputs": [
    {
     "name": "stderr",
     "output_type": "stream",
     "text": [
      "/Users/min0/Downloads/anaconda3/lib/python3.9/site-packages/seaborn/distributions.py:2619: FutureWarning: `distplot` is a deprecated function and will be removed in a future version. Please adapt your code to use either `displot` (a figure-level function with similar flexibility) or `histplot` (an axes-level function for histograms).\n",
      "  warnings.warn(msg, FutureWarning)\n"
     ]
    },
    {
     "data": {
      "text/plain": [
       "<AxesSubplot:>"
      ]
     },
     "execution_count": 21,
     "metadata": {},
     "output_type": "execute_result"
    },
    {
     "data": {
      "image/png": "[encoded data removed]",
      "text/plain": [
       "<Figure size 640x480 with 1 Axes>"
      ]
     },
     "metadata": {},
     "output_type": "display_data"
    }
   ],
   "source": [
    "# 시각화\n",
    "sns.distplot(x, bins=4, kde=False)"
   ]
  },
  {
   "cell_type": "markdown",
   "id": "52796e73",
   "metadata": {},
   "source": [
    "------"
   ]
  },
  {
   "cell_type": "markdown",
   "id": "bf285c5c",
   "metadata": {},
   "source": [
    "## 3. 중심경향치 (평균, 최빈치, 중앙값)\n",
    "- (https://mindscale.kr/course/basic-stat-python/3/)"
   ]
  },
  {
   "cell_type": "code",
   "execution_count": 8,
   "id": "3e7747e3",
   "metadata": {},
   "outputs": [
    {
     "name": "stdout",
     "output_type": "stream",
     "text": [
      "260.0\n",
      "200.0\n",
      "ModeResult(mode=array([100]), count=array([2]))\n"
     ]
    },
    {
     "name": "stderr",
     "output_type": "stream",
     "text": [
      "/var/folders/b9/x_2_sqpd5y3393q9vwpcscjm0000gn/T/ipykernel_10151/2769584082.py:14: FutureWarning: Unlike other reduction functions (e.g. `skew`, `kurtosis`), the default behavior of `mode` typically preserves the axis it acts along. In SciPy 1.11.0, this behavior will change: the default value of `keepdims` will become False, the `axis` over which the statistic is taken will be eliminated, and the value None will no longer be accepted. Set `keepdims` to True or False to avoid this warning.\n",
      "  result = mode(x)\n"
     ]
    }
   ],
   "source": [
    "x = [100, 100, 200, 400, 500]\n",
    "\n",
    "# 평균\n",
    "import numpy\n",
    "result = numpy.mean(x)\n",
    "print(result)\n",
    "\n",
    "# 중간값\n",
    "result = numpy.median(x)\n",
    "print(result)\n",
    "\n",
    "# 최빈값\n",
    "from scipy.stats import mode\n",
    "result = mode(x)  \n",
    "print(result)"
   ]
  },
  {
   "cell_type": "markdown",
   "id": "13fb1368",
   "metadata": {},
   "source": [
    "## 4. 변산성 측정치(분산, 표준편차, 범위, 사분위간 범위)\n",
    "- https://mindscale.kr/course/basic-stat-python/4/#_1"
   ]
  },
  {
   "cell_type": "code",
   "execution_count": 16,
   "id": "7039916b",
   "metadata": {},
   "outputs": [
    {
     "name": "stdout",
     "output_type": "stream",
     "text": [
      "2.25\n",
      "3.0\n",
      "4.75\n"
     ]
    }
   ],
   "source": [
    "import numpy\n",
    "x = [1, 1, 2, 3, 3, 3, 4, 5, 5, 7] # 10개의 숫자, 9개의 구간\n",
    "\n",
    "# 사분위간 범위\n",
    "print(numpy.quantile(x, .25)) # 0.25% 되는 값, 9 * 0.25 = 2.25, 2구간 되는 값, 2~3 사이의 0.25되는 값\n",
    "print(numpy.quantile(x, .5)) # 50% 되는 값\n",
    "print(numpy.quantile(x, .75)) # 0.25% 되는 값, 9 * 0.75 = 6.75, 6구간되는 값, 4~5 사이의 0.75되는 값"
   ]
  },
  {
   "cell_type": "markdown",
   "id": "bc8ea470",
   "metadata": {},
   "source": [
    "-------------"
   ]
  },
  {
   "cell_type": "code",
   "execution_count": 23,
   "id": "12530c08",
   "metadata": {},
   "outputs": [
    {
     "data": {
      "text/plain": [
       "[<matplotlib.lines.Line2D at 0x7fb8f9bff370>]"
      ]
     },
     "execution_count": 23,
     "metadata": {},
     "output_type": "execute_result"
    },
    {
     "data": {
      "image/png": "[encoded data removed]",
      "text/plain": [
       "<Figure size 640x480 with 1 Axes>"
      ]
     },
     "metadata": {},
     "output_type": "display_data"
    }
   ],
   "source": [
    "# 공분산\n",
    "\n",
    "x = [8, 3, 6, 6, 9, 4, 3, 9, 3, 4]\n",
    "y = [6, 2, 4, 6, 10, 5, 1, 8, 4, 5]\n",
    "\n",
    "import matplotlib.pyplot as plt\n",
    "plt.plot(x, y, 'o')"
   ]
  },
  {
   "cell_type": "code",
   "execution_count": 24,
   "id": "4686503e",
   "metadata": {},
   "outputs": [
    {
     "data": {
      "text/plain": [
       "array([[6.05555556, 5.61111111],\n",
       "       [5.61111111, 6.98888889]])"
      ]
     },
     "execution_count": 24,
     "metadata": {},
     "output_type": "execute_result"
    }
   ],
   "source": [
    "import numpy as np\n",
    "\n",
    "np.cov(x, y)"
   ]
  },
  {
   "cell_type": "markdown",
   "id": "6ba12f72",
   "metadata": {},
   "source": [
    "-------\n",
    "# 상관 분석"
   ]
  },
  {
   "cell_type": "markdown",
   "id": "6f249c7a",
   "metadata": {},
   "source": [
    "## 상관 계수\n",
    "- https://mindscale.kr/course/basic-stat-python/6/\n",
    "- 두 변수가 함께 변하는 정도를 -1 ~ 1 범위의 수로 나타낸 것"
   ]
  },
  {
   "cell_type": "code",
   "execution_count": 25,
   "id": "e8d4e797",
   "metadata": {},
   "outputs": [
    {
     "data": {
      "text/plain": [
       "array([[1.        , 0.86251728],\n",
       "       [0.86251728, 1.        ]])"
      ]
     },
     "execution_count": 25,
     "metadata": {},
     "output_type": "execute_result"
    }
   ],
   "source": [
    "import numpy as np\n",
    "\n",
    "np.corrcoef(x, y)"
   ]
  },
  {
   "cell_type": "markdown",
   "id": "945cdcb1",
   "metadata": {},
   "source": [
    "### 유의할 점\n",
    "- https://mindscale.kr/course/basic-stat-python/8/\n",
    "- 상관관계와 인과관계는 다르다...\n",
    "- 인과관계 분석: 회귀분석으로 많이 구함(https://mindscale.kr/course/basic-stat-python/9/)\n",
    "    - 선형회귀: 독립변수와 종속변수 사이에 직선!적인 형!태의 관계가 있다고 가정"
   ]
  },
  {
   "cell_type": "code",
   "execution_count": null,
   "id": "c0b495a9",
   "metadata": {},
   "outputs": [],
   "source": [
    "# 회귀분석의 사전 집단"
   ]
  },
  {
   "cell_type": "code",
   "execution_count": 26,
   "id": "0751a2cb",
   "metadata": {},
   "outputs": [],
   "source": [
    "import pandas as pd"
   ]
  },
  {
   "cell_type": "code",
   "execution_count": 27,
   "id": "3bf6f799",
   "metadata": {},
   "outputs": [],
   "source": [
    "df = pd.read_csv('/Users/min0/Documents/Documents/school/4-1/빅데이터/자료/week07/cars.csv')"
   ]
  },
  {
   "cell_type": "code",
   "execution_count": 28,
   "id": "78c8038c",
   "metadata": {},
   "outputs": [
    {
     "data": {
      "text/html": [
       "<div>\n",
       "<style scoped>\n",
       "    .dataframe tbody tr th:only-of-type {\n",
       "        vertical-align: middle;\n",
       "    }\n",
       "\n",
       "    .dataframe tbody tr th {\n",
       "        vertical-align: top;\n",
       "    }\n",
       "\n",
       "    .dataframe thead th {\n",
       "        text-align: right;\n",
       "    }\n",
       "</style>\n",
       "<table border=\"1\" class=\"dataframe\">\n",
       "  <thead>\n",
       "    <tr style=\"text-align: right;\">\n",
       "      <th></th>\n",
       "      <th>speed</th>\n",
       "      <th>dist</th>\n",
       "    </tr>\n",
       "  </thead>\n",
       "  <tbody>\n",
       "    <tr>\n",
       "      <th>0</th>\n",
       "      <td>4</td>\n",
       "      <td>2</td>\n",
       "    </tr>\n",
       "    <tr>\n",
       "      <th>1</th>\n",
       "      <td>4</td>\n",
       "      <td>10</td>\n",
       "    </tr>\n",
       "    <tr>\n",
       "      <th>2</th>\n",
       "      <td>7</td>\n",
       "      <td>4</td>\n",
       "    </tr>\n",
       "    <tr>\n",
       "      <th>3</th>\n",
       "      <td>7</td>\n",
       "      <td>22</td>\n",
       "    </tr>\n",
       "    <tr>\n",
       "      <th>4</th>\n",
       "      <td>8</td>\n",
       "      <td>16</td>\n",
       "    </tr>\n",
       "  </tbody>\n",
       "</table>\n",
       "</div>"
      ],
      "text/plain": [
       "   speed  dist\n",
       "0      4     2\n",
       "1      4    10\n",
       "2      7     4\n",
       "3      7    22\n",
       "4      8    16"
      ]
     },
     "execution_count": 28,
     "metadata": {},
     "output_type": "execute_result"
    }
   ],
   "source": [
    "df.head()"
   ]
  },
  {
   "cell_type": "code",
   "execution_count": 29,
   "id": "82ba6202",
   "metadata": {},
   "outputs": [
    {
     "name": "stderr",
     "output_type": "stream",
     "text": [
      "/Users/min0/Downloads/anaconda3/lib/python3.9/site-packages/seaborn/_decorators.py:36: FutureWarning: Pass the following variables as keyword args: x, y. From version 0.12, the only valid positional argument will be `data`, and passing other arguments without an explicit keyword will result in an error or misinterpretation.\n",
      "  warnings.warn(\n"
     ]
    },
    {
     "data": {
      "text/plain": [
       "<AxesSubplot:xlabel='speed', ylabel='dist'>"
      ]
     },
     "execution_count": 29,
     "metadata": {},
     "output_type": "execute_result"
    },
    {
     "data": {
      "image/png": "[encoded data removed]",
      "text/plain": [
       "<Figure size 640x480 with 1 Axes>"
      ]
     },
     "metadata": {},
     "output_type": "display_data"
    }
   ],
   "source": [
    "import seaborn as sns\n",
    "sns.regplot('speed', 'dist', lowess=True, data = df)"
   ]
  },
  {
   "cell_type": "code",
   "execution_count": 30,
   "id": "21819117",
   "metadata": {},
   "outputs": [
    {
     "name": "stderr",
     "output_type": "stream",
     "text": [
      "/Users/min0/Downloads/anaconda3/lib/python3.9/site-packages/seaborn/_decorators.py:36: FutureWarning: Pass the following variable as a keyword arg: x. From version 0.12, the only valid positional argument will be `data`, and passing other arguments without an explicit keyword will result in an error or misinterpretation.\n",
      "  warnings.warn(\n",
      "/Users/min0/Downloads/anaconda3/lib/python3.9/site-packages/seaborn/_core.py:1326: UserWarning: Vertical orientation ignored with only `x` specified.\n",
      "  warnings.warn(single_var_warning.format(\"Vertical\", \"x\"))\n",
      "/Users/min0/Downloads/anaconda3/lib/python3.9/site-packages/seaborn/_decorators.py:36: FutureWarning: Pass the following variable as a keyword arg: x. From version 0.12, the only valid positional argument will be `data`, and passing other arguments without an explicit keyword will result in an error or misinterpretation.\n",
      "  warnings.warn(\n",
      "/Users/min0/Downloads/anaconda3/lib/python3.9/site-packages/seaborn/_core.py:1326: UserWarning: Vertical orientation ignored with only `x` specified.\n",
      "  warnings.warn(single_var_warning.format(\"Vertical\", \"x\"))\n"
     ]
    },
    {
     "data": {
      "text/plain": [
       "Text(0.5, 1.0, 'Distance')"
      ]
     },
     "execution_count": 30,
     "metadata": {},
     "output_type": "execute_result"
    },
    {
     "data": {
      "image/png": "[encoded data removed]",
      "text/plain": [
       "<Figure size 640x480 with 2 Axes>"
      ]
     },
     "metadata": {},
     "output_type": "display_data"
    }
   ],
   "source": [
    "# 극단값이 있을 경우 회귀분석의 결과가 왜곡될 수 있다. \n",
    "# 상자 그림을 그려서 극단값이 있는지 확인해본다. \n",
    "# 아래 그림을 보면 dist에서 값 하나가 크게 위에 있는 것을 볼 수 있다.\n",
    "# 그래프 1의 중간값 25~75%값, 그래프 2는 25~75% 값, 점 하나는 이상한 값\n",
    "\n",
    "import matplotlib.pyplot as plt\n",
    "\n",
    "# 1행 2열 형태로 2개의 그래프를 그린다\n",
    "fig, (ax1, ax2) = plt.subplots(1, 2)  \n",
    "\n",
    "# speed의 상자 그림을 첫번째(ax1)로 그린다. 방향은 수직(orient='v')\n",
    "sns.boxplot('speed', data=df, ax=ax1, orient='v')\n",
    "ax1.set_title('Speed')\n",
    "\n",
    "# dist의 상자 그림을 두번째(ax2)로 그린다.\n",
    "sns.boxplot('dist', data=df, ax=ax2, orient='v')\n",
    "ax2.set_title('Distance')"
   ]
  },
  {
   "cell_type": "code",
   "execution_count": null,
   "id": "53874212",
   "metadata": {},
   "outputs": [],
   "source": [
    "# 회귀분석 실시\n",
    "- https://mindscale.kr/course/basic-stat-python/11/\n",
    "    "
   ]
  },
  {
   "cell_type": "code",
   "execution_count": 31,
   "id": "46d05e52",
   "metadata": {},
   "outputs": [
    {
     "data": {
      "text/html": [
       "<table class=\"simpletable\">\n",
       "<caption>OLS Regression Results</caption>\n",
       "<tr>\n",
       "  <th>Dep. Variable:</th>          <td>dist</td>       <th>  R-squared:         </th> <td>   0.651</td>\n",
       "</tr>\n",
       "<tr>\n",
       "  <th>Model:</th>                   <td>OLS</td>       <th>  Adj. R-squared:    </th> <td>   0.644</td>\n",
       "</tr>\n",
       "<tr>\n",
       "  <th>Method:</th>             <td>Least Squares</td>  <th>  F-statistic:       </th> <td>   89.57</td>\n",
       "</tr>\n",
       "<tr>\n",
       "  <th>Date:</th>             <td>Wed, 19 Apr 2023</td> <th>  Prob (F-statistic):</th> <td>1.49e-12</td>\n",
       "</tr>\n",
       "<tr>\n",
       "  <th>Time:</th>                 <td>09:53:42</td>     <th>  Log-Likelihood:    </th> <td> -206.58</td>\n",
       "</tr>\n",
       "<tr>\n",
       "  <th>No. Observations:</th>      <td>    50</td>      <th>  AIC:               </th> <td>   417.2</td>\n",
       "</tr>\n",
       "<tr>\n",
       "  <th>Df Residuals:</th>          <td>    48</td>      <th>  BIC:               </th> <td>   421.0</td>\n",
       "</tr>\n",
       "<tr>\n",
       "  <th>Df Model:</th>              <td>     1</td>      <th>                     </th>     <td> </td>   \n",
       "</tr>\n",
       "<tr>\n",
       "  <th>Covariance Type:</th>      <td>nonrobust</td>    <th>                     </th>     <td> </td>   \n",
       "</tr>\n",
       "</table>\n",
       "<table class=\"simpletable\">\n",
       "<tr>\n",
       "      <td></td>         <th>coef</th>     <th>std err</th>      <th>t</th>      <th>P>|t|</th>  <th>[0.025</th>    <th>0.975]</th>  \n",
       "</tr>\n",
       "<tr>\n",
       "  <th>Intercept</th> <td>  -17.5791</td> <td>    6.758</td> <td>   -2.601</td> <td> 0.012</td> <td>  -31.168</td> <td>   -3.990</td>\n",
       "</tr>\n",
       "<tr>\n",
       "  <th>speed</th>     <td>    3.9324</td> <td>    0.416</td> <td>    9.464</td> <td> 0.000</td> <td>    3.097</td> <td>    4.768</td>\n",
       "</tr>\n",
       "</table>\n",
       "<table class=\"simpletable\">\n",
       "<tr>\n",
       "  <th>Omnibus:</th>       <td> 8.975</td> <th>  Durbin-Watson:     </th> <td>   1.676</td>\n",
       "</tr>\n",
       "<tr>\n",
       "  <th>Prob(Omnibus):</th> <td> 0.011</td> <th>  Jarque-Bera (JB):  </th> <td>   8.189</td>\n",
       "</tr>\n",
       "<tr>\n",
       "  <th>Skew:</th>          <td> 0.885</td> <th>  Prob(JB):          </th> <td>  0.0167</td>\n",
       "</tr>\n",
       "<tr>\n",
       "  <th>Kurtosis:</th>      <td> 3.893</td> <th>  Cond. No.          </th> <td>    50.7</td>\n",
       "</tr>\n",
       "</table><br/><br/>Notes:<br/>[1] Standard Errors assume that the covariance matrix of the errors is correctly specified."
      ],
      "text/plain": [
       "<class 'statsmodels.iolib.summary.Summary'>\n",
       "\"\"\"\n",
       "                            OLS Regression Results                            \n",
       "==============================================================================\n",
       "Dep. Variable:                   dist   R-squared:                       0.651\n",
       "Model:                            OLS   Adj. R-squared:                  0.644\n",
       "Method:                 Least Squares   F-statistic:                     89.57\n",
       "Date:                Wed, 19 Apr 2023   Prob (F-statistic):           1.49e-12\n",
       "Time:                        09:53:42   Log-Likelihood:                -206.58\n",
       "No. Observations:                  50   AIC:                             417.2\n",
       "Df Residuals:                      48   BIC:                             421.0\n",
       "Df Model:                           1                                         \n",
       "Covariance Type:            nonrobust                                         \n",
       "==============================================================================\n",
       "                 coef    std err          t      P>|t|      [0.025      0.975]\n",
       "------------------------------------------------------------------------------\n",
       "Intercept    -17.5791      6.758     -2.601      0.012     -31.168      -3.990\n",
       "speed          3.9324      0.416      9.464      0.000       3.097       4.768\n",
       "==============================================================================\n",
       "Omnibus:                        8.975   Durbin-Watson:                   1.676\n",
       "Prob(Omnibus):                  0.011   Jarque-Bera (JB):                8.189\n",
       "Skew:                           0.885   Prob(JB):                       0.0167\n",
       "Kurtosis:                       3.893   Cond. No.                         50.7\n",
       "==============================================================================\n",
       "\n",
       "Notes:\n",
       "[1] Standard Errors assume that the covariance matrix of the errors is correctly specified.\n",
       "\"\"\""
      ]
     },
     "execution_count": 31,
     "metadata": {},
     "output_type": "execute_result"
    }
   ],
   "source": [
    "from statsmodels.formula.api import ols # 선형회귀 약어가 ols\n",
    "res = ols('dist ~ speed', data=df).fit() # 종속변수 ~ 독립변수\n",
    "res.summary()\n",
    "\n",
    "# R-qeuared가 1에 가까울 수록...\n",
    "# f어쩌고가 0.05보다 작으면,, 유의미하다??"
   ]
  },
  {
   "cell_type": "code",
   "execution_count": null,
   "id": "d724f859",
   "metadata": {},
   "outputs": [],
   "source": [
    "# t 검증\n",
    "- t 테스트\n",
    "- 독립 표본"
   ]
  },
  {
   "cell_type": "code",
   "execution_count": 32,
   "id": "6f52ee64",
   "metadata": {},
   "outputs": [
    {
     "data": {
      "text/plain": [
       "Ttest_indResult(statistic=-2.670573872669349, pvalue=0.01108318824471652)"
      ]
     },
     "execution_count": 32,
     "metadata": {},
     "output_type": "execute_result"
    }
   ],
   "source": [
    "# 두 데이터가 서로 같은지 다른지 검증: t test\n",
    "dat_M = [117, 108, 105, 89, 101, 93, 96, 108, 108, 94, 93, 112, 92, 91, 100, 96, 120, 86, 96, 95]\n",
    "dat_F = [121, 101, 102, 114, 103, 105, 101, 131, 96, 109, 109, 113, 115, 94, 108, 96, 110, 112, 120, 100]\n",
    "\n",
    "import numpy as np\n",
    "\n",
    "np.mean(dat_M)\n",
    "np.mean(dat_F)\n",
    "\n",
    "import scipy.stats\n",
    "\n",
    "scipy.stats.ttest_ind(dat_M, dat_F, equal_var=False)"
   ]
  },
  {
   "cell_type": "markdown",
   "id": "13c4d00a",
   "metadata": {},
   "source": [
    "# 쉬는시간내놔,,,...'."
   ]
  },
  {
   "cell_type": "code",
   "execution_count": null,
   "id": "e37b3ae4",
   "metadata": {},
   "outputs": [],
   "source": []
  }
 ],
 "metadata": {
  "kernelspec": {
   "display_name": "Python 3 (ipykernel)",
   "language": "python",
   "name": "python3"
  },
  "language_info": {
   "codemirror_mode": {
    "name": "ipython",
    "version": 3
   },
   "file_extension": ".py",
   "mimetype": "text/x-python",
   "name": "python",
   "nbconvert_exporter": "python",
   "pygments_lexer": "ipython3",
   "version": "3.9.13"
  }
 },
 "nbformat": 4,
 "nbformat_minor": 5
}
