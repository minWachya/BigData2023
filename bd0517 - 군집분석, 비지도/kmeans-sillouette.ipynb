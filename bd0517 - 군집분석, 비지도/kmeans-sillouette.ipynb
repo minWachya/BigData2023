{
 "cells": [
  {
   "cell_type": "code",
   "execution_count": null,
   "id": "efcfac5d",
   "metadata": {},
   "outputs": [],
   "source": [
    "from sklearn.cluster import KMeans\n",
    "import numpy as np\n",
    "import pandas as pd\n",
    "import numpy as np\n",
    "import matplotlib.pyplot as plt\n",
    "import warnings\n",
    "warnings.filterwarnings('ignore')\n",
    "from sklearn.cluster import KMeans"
   ]
  },
  {
   "cell_type": "code",
   "execution_count": null,
   "id": "33053993",
   "metadata": {},
   "outputs": [],
   "source": [
    "# 데이터 생성\n",
    "np.random.seed(100)\n",
    "num_data = 50\n",
    " \n",
    "x11 = np.linspace(0.3,0.7,20)\n",
    "x12 = np.linspace(1.3,1.8,15)\n",
    "x13 = np.linspace(2.4,3,15)\n",
    "x1 = np.concatenate((x11,x12,x13),axis=None)\n",
    "error = np.random.normal(1,0.5,num_data)\n",
    "x2 = 1.5*x1+2+error\n",
    "fig = plt.figure(figsize=(7,7))\n",
    "fig.set_facecolor('white')\n",
    "plt.scatter(x1, x2, color='k')\n",
    "plt.xlabel('x1')\n",
    "plt.ylabel('x2')\n",
    "plt.show()"
   ]
  },
  {
   "cell_type": "code",
   "execution_count": null,
   "id": "ba96090a",
   "metadata": {},
   "outputs": [],
   "source": [
    "# K-means clustering\n",
    "X = np.stack([x1, x2], axis=1)\n",
    "init = np.array([[2. , 4. ], [1. , 5. ], [2.5, 6. ]])\n",
    " \n",
    "kmeans = KMeans(n_clusters=3, init=init)\n",
    "kmeans.fit(X)\n",
    "labels = kmeans.labels_\n",
    "fig = plt.figure(figsize=(7,7))\n",
    "fig.set_facecolor('white')\n",
    "for i, label in enumerate(labels):\n",
    "    if label == 0:\n",
    "        color = 'blue'\n",
    "    elif label ==1:\n",
    "        color = 'red'\n",
    "    else:\n",
    "        color = 'green'\n",
    "    plt.scatter(X[i,0],X[i,1], color=color)\n",
    "    \n",
    "plt.xlabel('x1')\n",
    "plt.ylabel('x2')\n",
    "plt.show()"
   ]
  },
  {
   "cell_type": "code",
   "execution_count": null,
   "id": "ec0f8bc2",
   "metadata": {},
   "outputs": [],
   "source": [
    "# 실루엣 함수 \n",
    "def get_silhouette_results(X, labels):\n",
    "    def get_sum_distance(target_x, target_cluster):\n",
    "        res = np.sum([np.linalg.norm(target_x-x) for x in target_cluster])\n",
    "        return res\n",
    "    \n",
    "    '''\n",
    "    각 데이터 포인트를 돌면서 a(i), b(i)를 계산\n",
    "    그리고 s(i)를 계산한다.\n",
    "    \n",
    "    마지막으로 Silhouette(실루엣) Coefficient를 계산한다.\n",
    "    '''\n",
    "    uniq_labels = np.unique(labels)\n",
    "    silhouette_val_list = []\n",
    "    for i in range(len(labels)):\n",
    "        target_data = X[i]\n",
    " \n",
    "        ## calculate a(i)\n",
    "        target_label = labels[i]\n",
    "        target_cluster_data_idx = np.where(labels==target_label)[0]\n",
    "        if len(target_cluster_data_idx) == 1:\n",
    "            silhouette_val_list.append(0)\n",
    "            continue\n",
    "        else:\n",
    "            target_cluster_data = X[target_cluster_data_idx]\n",
    "            temp1 = get_sum_distance(target_data, target_cluster_data)\n",
    "            a_i = temp1/(target_cluster_data.shape[0]-1)\n",
    " \n",
    "        ## calculate b(i)\n",
    "        b_i_list = []\n",
    "        label_list = uniq_labels[np.unique(labels) != target_label]\n",
    "        for ll in label_list:\n",
    "            other_cluster_data_idx = np.where(labels==ll)[0]\n",
    "            other_cluster_data = X[other_cluster_data_idx]\n",
    "            temp2 = get_sum_distance(target_data, other_cluster_data)\n",
    "            temp_b_i = temp2/other_cluster_data.shape[0]\n",
    "            b_i_list.append(temp_b_i)\n",
    " \n",
    "        b_i = min(b_i_list)\n",
    "        s_i = (b_i-a_i)/max(a_i, b_i)\n",
    "        silhouette_val_list.append(s_i)\n",
    " \n",
    "    silhouette_coef_list = []\n",
    "    for ul in uniq_labels:\n",
    "        temp3 = np.mean([s for s, l in zip(silhouette_val_list, labels) if l == ul])\n",
    "        silhouette_coef_list.append(temp3)\n",
    " \n",
    "    silhouette_coef = max(silhouette_coef_list)\n",
    "    return (silhouette_coef, np.array(silhouette_val_list))"
   ]
  },
  {
   "cell_type": "code",
   "execution_count": null,
   "id": "b75d737b",
   "metadata": {},
   "outputs": [],
   "source": [
    "# 실루엣 함수 테스트\n",
    "silhouette_coef, silhouette_val_list = get_silhouette_results(X, labels)\n",
    "print(silhouette_coef)"
   ]
  },
  {
   "cell_type": "code",
   "execution_count": null,
   "id": "4dd8debc",
   "metadata": {},
   "outputs": [],
   "source": [
    "# 실루엣 함수 그리기\n",
    "import seaborn as sns \n",
    "## 각 클러스터별로 Silhouette(실루엣) 값을 정렬한다.\n",
    "uniq_labels = np.unique(labels)\n",
    "sorted_cluster_svl = []\n",
    "rearr_labels = []\n",
    "for ul in uniq_labels:\n",
    "    labels_idx = np.where(labels==ul)[0]\n",
    "    target_svl = silhouette_val_list[labels_idx]\n",
    "    sorted_cluster_svl += sorted(target_svl)\n",
    "    rearr_labels += [ul]*len(target_svl)\n",
    " \n",
    "colors = sns.color_palette('hls', len(uniq_labels))\n",
    "color_labels = [colors[i] for i in rearr_labels]\n",
    " \n",
    "fig = plt.figure(figsize=(6, 10))\n",
    "fig.set_facecolor('white')\n",
    "plt.barh(range(len(sorted_cluster_svl)), sorted_cluster_svl, color=color_labels)\n",
    "plt.ylabel('Data Index')\n",
    "plt.xlabel('Silhouette Value')\n",
    "plt.show()"
   ]
  },
  {
   "cell_type": "code",
   "execution_count": null,
   "id": "2d9f526c",
   "metadata": {},
   "outputs": [],
   "source": [
    "# 실루엣 함수 호출해보기\n",
    "from sklearn.metrics import silhouette_score \n",
    "s=silhouette_score(X, labels, metric='euclidean')\n",
    "print(s)"
   ]
  },
  {
   "cell_type": "code",
   "execution_count": null,
   "id": "c4375d3f",
   "metadata": {},
   "outputs": [],
   "source": [
    "# 직접구현한 함수\n",
    "np.mean(silhouette_val_list)"
   ]
  }
 ],
 "metadata": {
  "kernelspec": {
   "display_name": "Python 3 (ipykernel)",
   "language": "python",
   "name": "python3"
  },
  "language_info": {
   "codemirror_mode": {
    "name": "ipython",
    "version": 3
   },
   "file_extension": ".py",
   "mimetype": "text/x-python",
   "name": "python",
   "nbconvert_exporter": "python",
   "pygments_lexer": "ipython3",
   "version": "3.9.13"
  }
 },
 "nbformat": 4,
 "nbformat_minor": 5
}
