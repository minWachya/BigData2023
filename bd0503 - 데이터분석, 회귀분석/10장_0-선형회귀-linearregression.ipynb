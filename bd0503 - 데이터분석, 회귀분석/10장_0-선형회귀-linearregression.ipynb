{
 "cells": [
  {
   "cell_type": "markdown",
   "id": "146c2238",
   "metadata": {},
   "source": [
    "- 빨간 점(원래 데이터)와 파란 선(선형 방정식)이 비슷한 궤도에 있어야 연관성 있는 거...\n",
    "- R_swuared(R^2): 모형이 얼마나 설명력을 갖는지?\n",
    "    - 값이 A면 y의 분산을 A%만큼 설명한다. 높을수록 좋음\n",
    "- F검정과 유의확률(p value): 모형이 통계적으로 유의미한지?\n",
    "    - 작으면 유의미\n",
    "- 회귀계수의 t값과 유의확률(p value): 회귀계수가 유의미한지?\n",
    "    - 작으면 유의미\n",
    "\n",
    "\n",
    "- [참고: 친절한 데이터 사이언티스트 되기 강좌: 회귀분석 결과의 해석과 R^2의 의미...](https://recipesds.tistory.com/entry/%ED%9A%8C%EA%B7%80%EB%B6%84%EC%84%9D-%EA%B2%B0%EA%B3%BC%EC%9D%98-%ED%95%B4%EC%84%9D%EA%B3%BC-R%C2%B2%EC%84%A4%EB%AA%85%EB%A0%A5%EC%9D%98-%EC%9D%98%EB%AF%B8-%EA%B7%B8%EB%A6%AC%EA%B3%A0-R%EC%9D%80-%EC%83%81%EA%B4%80%EA%B3%84%EC%88%98%EC%9D%98-%EC%A0%9C%EA%B3%B1-%EC%9D%91)"
   ]
  },
  {
   "cell_type": "code",
   "execution_count": 1,
   "id": "53750883",
   "metadata": {},
   "outputs": [],
   "source": [
    "# scikit learn 패키지에서 필요한 모델인 linear_model이라는 모듈을 불러들임\n",
    "from sklearn import linear_model\n",
    "import numpy as np\n",
    "import pandas as pd\n",
    "import matplotlib\n",
    "import matplotlib.pyplot as plt"
   ]
  },
  {
   "cell_type": "code",
   "execution_count": 2,
   "id": "aeeaff4e",
   "metadata": {},
   "outputs": [],
   "source": [
    "# matplotlib에는 사전에 정의한 많은 스타일이 있다.\n",
    "# ggplot도 그 중 하나임\n",
    "# R에서 사용하는 ggplot을 흉내내는 스타일을 사용하겠다고 선언\n",
    "matplotlib.style.use('ggplot')"
   ]
  },
  {
   "cell_type": "code",
   "execution_count": 40,
   "id": "4ae29e0b",
   "metadata": {},
   "outputs": [],
   "source": [
    "# 2차원 배열을 만들어 'data'라는 변수에 할당\n",
    "# (키-몸무게)\n",
    "# data = {'x' : [150.0, 155, 160.0],\n",
    "#        'y' : [50, 54, 60]} # 50, 20, 60 이러면 예측 어려움. 선형 방정식이 점과 비슷해야 좋은 거임\n",
    "# (키-몸무게)\n",
    "# data = {'x' : [156.5, 160.6, 169.5, 167.9, 154.8, 163.0],\n",
    "#        'y' : [51.7, 54.8, 62.3, 61.3, 49.8, 55.8]}\n",
    "# (토익점수, 10점만점 가정)\n",
    "data = {'x' : [4,6,7,7,8,10],\n",
    "        'y' : [2,4,6,8,7,9]}"
   ]
  },
  {
   "cell_type": "code",
   "execution_count": 41,
   "id": "f411b182",
   "metadata": {},
   "outputs": [
    {
     "data": {
      "text/plain": [
       "<AxesSubplot:xlabel='x', ylabel='y'>"
      ]
     },
     "execution_count": 41,
     "metadata": {},
     "output_type": "execute_result"
    },
    {
     "data": {
      "image/png": "[encoded data removed]",
      "text/plain": [
       "<Figure size 500x500 with 1 Axes>"
      ]
     },
     "metadata": {},
     "output_type": "display_data"
    }
   ],
   "source": [
    "# data라는 변수의 값을 data frame 형태로 변환\n",
    "data = pd.DataFrame(data)\n",
    "\n",
    "data.plot(kind=\"scatter\",  # 산점도를 그리시오\n",
    "          x='x',           # 가로축은 x라고 라벨을 붙임\n",
    "          y='y',           # 세로축은 y라고 라벨을 붙임\n",
    "          figsize=(5,5),   # 가로 5인치, 세로 5인치 크기의 박스를 설정\n",
    "          color=\"blue\")    # 산점도 상의 점 색상을 파랑색으로 지정"
   ]
  },
  {
   "cell_type": "code",
   "execution_count": 42,
   "id": "87c9faf0",
   "metadata": {},
   "outputs": [
    {
     "name": "stdout",
     "output_type": "stream",
     "text": [
      "a value =  -2.399999999999995\n",
      "b balue = [1.2]\n"
     ]
    }
   ],
   "source": [
    "# linear_model 모듈이 포함하고 있는 Linearregression() 함수를 'linear_regression'이라고 하는 변수에 할당\n",
    "linear_regression = linear_model.LinearRegression()\n",
    "\n",
    "# Linearregression()의 fit()이라는 함수를 이용하여 선형회귀 모델 훈련 실행\n",
    "# x: 독립변수는 y: 종속변수\n",
    "linear_regression.fit(X = pd.DataFrame(data[\"x\"]), y = data[\"y\"])\n",
    "\n",
    "# 선형 그래프 만들어냄\n",
    "# 선형 회귀식의 세로축 절편\n",
    "print('a value = ', linear_regression.intercept_)\n",
    "# 선형 회귀식의 기울기\n",
    "print('b balue =', linear_regression.coef_)"
   ]
  },
  {
   "cell_type": "code",
   "execution_count": 43,
   "id": "4dbc5d04",
   "metadata": {},
   "outputs": [
    {
     "name": "stdout",
     "output_type": "stream",
     "text": [
      "[2.4 4.8 6.  6.  7.2 9.6]\n",
      "0   -0.4\n",
      "1   -0.8\n",
      "2    0.0\n",
      "3    2.0\n",
      "4   -0.2\n",
      "5   -0.6\n",
      "Name: y, dtype: float64\n",
      "count    6.000000\n",
      "mean     0.000000\n",
      "std      1.019804\n",
      "min     -0.800000\n",
      "25%     -0.550000\n",
      "50%     -0.300000\n",
      "75%     -0.050000\n",
      "max      2.000000\n",
      "Name: y, dtype: float64\n",
      "SSE =  5.2\n",
      "SST =  34.0\n",
      "R_squared =  0.8470588235294118\n"
     ]
    }
   ],
   "source": [
    "# 위에서 만들어진 선형회귀 모델을 적용하여 선형회귀 값을 구해본다.\n",
    "# 그 값을 prediction에 할당한다.\n",
    "prediction = linear_regression.predict(X = pd.DataFrame(data[\"x\"]))\n",
    "# 실제 y값과 예측한 y값을 비교하여 잔차(residuals)를 구한다.\n",
    "print(prediction)\n",
    "residuals = data[\"y\"] - prediction;  \n",
    "print(residuals)\n",
    "# 변수의 갯수(6개), 잔차의 평균값, 잔차의 표준편차, 최소값, 25% 값, 50% 값, 75% 값, 최대값을 출력한다.\n",
    "print(residuals.describe())\n",
    "# 잔차를 제곱하여 전체를 합침. 결과값을 SSE라는 변수에 할당\n",
    "SSE=sse= (residuals**2).sum()\n",
    "print(\"SSE = \", SSE);  \n",
    "# y값의 표준편차를 제곱한 것을 모두 합침. 그 결과값을 SST라는 변수에 할당\n",
    "SST = ((data[\"y\"]-data[\"y\"].mean())**2).sum()\n",
    "print(\"SST = \", SST)\n",
    "# 결정계수 R을 구함\n",
    "R_squared = 1 - (SSE/SST)\n",
    "print('R_squared = ', R_squared)\n",
    "\n",
    "\n",
    "# => [50, 58, 60]인데 [51. 56. 61.]로 예측함\n",
    "# => 예측값과 실제 값 차이는 -1.0  2.0  -1.0"
   ]
  },
  {
   "cell_type": "code",
   "execution_count": 44,
   "id": "22bc2fb3",
   "metadata": {},
   "outputs": [
    {
     "data": {
      "text/plain": [
       "[<matplotlib.lines.Line2D at 0x7fb65866f700>]"
      ]
     },
     "execution_count": 44,
     "metadata": {},
     "output_type": "execute_result"
    },
    {
     "data": {
      "image/png": "[encoded data removed]",
      "text/plain": [
       "<Figure size 500x500 with 1 Axes>"
      ]
     },
     "metadata": {},
     "output_type": "display_data"
    }
   ],
   "source": [
    "data.plot(kind=\"scatter\",x=\"x\",y=\"y\",figsize=(5,5),color=\"red\")\n",
    "# Plot regression line\n",
    "plt.plot(data[\"x\"],prediction,color=\"blue\")\n",
    "\n",
    "# => 빨간 점: 실제값\n",
    "# => 파란 선: 선형 방정식"
   ]
  },
  {
   "cell_type": "code",
   "execution_count": 45,
   "id": "93494215",
   "metadata": {},
   "outputs": [],
   "source": [
    "# sklearn.metrics라는 패키지로부터 mean_squared_error 모듈을 불러들임\n",
    "from sklearn.metrics import mean_squared_error, mean_absolute_error, r2_score"
   ]
  },
  {
   "cell_type": "code",
   "execution_count": 46,
   "id": "bbff382a",
   "metadata": {},
   "outputs": [
    {
     "name": "stdout",
     "output_type": "stream",
     "text": [
      "score =  0.8470588235294118\n",
      "Mean_absolute_Error =  0.6666666666666666\n",
      "Mean_Squared_Error =  0.8666666666666667\n",
      "r2_score =  0.8194444444444442\n",
      "RMSE =  0.9309493362512627\n"
     ]
    }
   ],
   "source": [
    "# 결정계수 R값을 구함\n",
    "print('score = ', linear_regression.score(X = pd.DataFrame(data[\"x\"]), y = data[\"y\"]))\n",
    "# 실제값(data[y])과 회귀식 값(prediction)의 차이의 제곱을 구함\n",
    "print('Mean_absolute_Error = ', mean_absolute_error(prediction, data['y']))\n",
    "print('Mean_Squared_Error = ', mean_squared_error(prediction, data['y']))\n",
    "print('r2_score = ', r2_score(prediction, data['y']))\n",
    "# Mean squared error의 제곱근 값을 구함\n",
    "print('RMSE = ', mean_squared_error(prediction, data['y'])**0.5)"
   ]
  },
  {
   "cell_type": "code",
   "execution_count": 47,
   "id": "336ce821",
   "metadata": {},
   "outputs": [
    {
     "name": "stdout",
     "output_type": "stream",
     "text": [
      "165cm의 체중 예측=> [195.6]\n"
     ]
    },
    {
     "name": "stderr",
     "output_type": "stream",
     "text": [
      "/Users/min0/Downloads/anaconda3/lib/python3.9/site-packages/sklearn/base.py:450: UserWarning: X does not have valid feature names, but LinearRegression was fitted with feature names\n",
      "  warnings.warn(\n"
     ]
    }
   ],
   "source": [
    "import sklearn.metrics; dir(sklearn.metrics)\n",
    "# 위에서 만들어진 선형회귀 모델을 적용하여 선형회귀 값을 구해본다.\n",
    "# 그 값을 prediction에 할당한다.\n",
    "mydata = {'x' : [165.0],\n",
    "        'y' : []}\n",
    "prediction = linear_regression.predict(X = pd.DataFrame(mydata[\"x\"]))\n",
    "print(\"165cm의 체중 예측=>\", prediction)"
   ]
  },
  {
   "cell_type": "code",
   "execution_count": null,
   "id": "02e2dcd5",
   "metadata": {},
   "outputs": [],
   "source": []
  },
  {
   "cell_type": "code",
   "execution_count": null,
   "id": "a8a8f217",
   "metadata": {},
   "outputs": [],
   "source": []
  }
 ],
 "metadata": {
  "kernelspec": {
   "display_name": "Python 3 (ipykernel)",
   "language": "python",
   "name": "python3"
  },
  "language_info": {
   "codemirror_mode": {
    "name": "ipython",
    "version": 3
   },
   "file_extension": ".py",
   "mimetype": "text/x-python",
   "name": "python",
   "nbconvert_exporter": "python",
   "pygments_lexer": "ipython3",
   "version": "3.9.13"
  }
 },
 "nbformat": 4,
 "nbformat_minor": 5
}
