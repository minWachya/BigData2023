{
 "cells": [
  {
   "cell_type": "code",
   "execution_count": 1,
   "id": "bc5633e5",
   "metadata": {},
   "outputs": [],
   "source": [
    "from bs4 import BeautifulSoup"
   ]
  },
  {
   "cell_type": "code",
   "execution_count": 2,
   "id": "621b65f6",
   "metadata": {},
   "outputs": [],
   "source": [
    "html = '<h1 id=\"title\">한빛출판네트워크</h1><div class=\"top\"><ul class=\"menu\"><li><a href=http://www.hanbit.co.kr/member/login.html class=\"login\">로그인 </a></li></ul><ul class=\"brand\"><li><a href=\"http://www.hanbit.co.kr/media/>한빛미디어<li><a href=\"http://www.hanbit.co.kr/ academy/\">한빛아카데미</a></li></ul></div>'"
   ]
  },
  {
   "cell_type": "code",
   "execution_count": 3,
   "id": "ed045bb1",
   "metadata": {},
   "outputs": [
    {
     "name": "stdout",
     "output_type": "stream",
     "text": [
      "<h1 id=\"title\">\n",
      " 한빛출판네트워크\n",
      "</h1>\n",
      "<div class=\"top\">\n",
      " <ul class=\"menu\">\n",
      "  <li>\n",
      "   <a class=\"login\" href=\"http://www.hanbit.co.kr/member/login.html\">\n",
      "    로그인\n",
      "   </a>\n",
      "  </li>\n",
      " </ul>\n",
      " <ul class=\"brand\">\n",
      "  <li>\n",
      "   <a \"=\"\" academy=\"\" href=\"http://www.hanbit.co.kr/media/&gt;한빛미디어&lt;li&gt;&lt;a href=\" http:=\"\" www.hanbit.co.kr=\"\">\n",
      "    한빛아카데미\n",
      "   </a>\n",
      "  </li>\n",
      " </ul>\n",
      "</div>\n"
     ]
    }
   ],
   "source": [
    "soup = BeautifulSoup(html, 'html.parser')\n",
    "print(soup.prettify())"
   ]
  },
  {
   "cell_type": "code",
   "execution_count": 5,
   "id": "6c992415",
   "metadata": {},
   "outputs": [
    {
     "data": {
      "text/plain": [
       "<h1 id=\"title\">한빛출판네트워크</h1>"
      ]
     },
     "execution_count": 5,
     "metadata": {},
     "output_type": "execute_result"
    }
   ],
   "source": [
    "soup.h1"
   ]
  },
  {
   "cell_type": "code",
   "execution_count": 6,
   "id": "83cf8b51",
   "metadata": {},
   "outputs": [
    {
     "data": {
      "text/plain": [
       "<h1 id=\"title\">한빛출판네트워크</h1>"
      ]
     },
     "execution_count": 6,
     "metadata": {},
     "output_type": "execute_result"
    }
   ],
   "source": [
    "tag_h1 = soup.h1\n",
    "tag_h1"
   ]
  },
  {
   "cell_type": "code",
   "execution_count": 4,
   "id": "4defa113",
   "metadata": {},
   "outputs": [
    {
     "name": "stdout",
     "output_type": "stream",
     "text": [
      "한빛아카데미\n"
     ]
    }
   ],
   "source": [
    "tag_div = soup.div\n",
    "tag_div\n",
    "tag_ul = soup.ul\n",
    "tag_ul\n",
    "tag_li = soup.li\n",
    "tag_li\n",
    "tag_a = soup.a\n",
    "tag_a\n",
    "tag_ul_all = soup.find_all(\"ul\")\n",
    "tag_ul_all\n",
    "tag_li_all = soup.find_all(\"li\")\n",
    "tag_li_all\n",
    "tag_a_all = soup.find_all(\"a\")\n",
    "tag_a_all\n",
    "tag_a.attrs\n",
    "tag_a['href']\n",
    "tag_a['class']\n",
    "tag_ul_2 = soup.find('ul', attrs={'class':'brand'})\n",
    "tag_ul_2\n",
    "title = soup.find(id=\"title\")\n",
    "title\n",
    "title.string\n",
    "li_list = soup.select(\"div>ul.brand>li\")\n",
    "li_list\n",
    "for li in li_list:\n",
    "    print(li.string)"
   ]
  }
 ],
 "metadata": {
  "kernelspec": {
   "display_name": "Python 3 (ipykernel)",
   "language": "python",
   "name": "python3"
  },
  "language_info": {
   "codemirror_mode": {
    "name": "ipython",
    "version": 3
   },
   "file_extension": ".py",
   "mimetype": "text/x-python",
   "name": "python",
   "nbconvert_exporter": "python",
   "pygments_lexer": "ipython3",
   "version": "3.9.13"
  }
 },
 "nbformat": 4,
 "nbformat_minor": 5
}
