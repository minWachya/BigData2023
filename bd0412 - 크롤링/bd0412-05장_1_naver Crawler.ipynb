{
 "cells": [
  {
   "cell_type": "markdown",
   "id": "4cafc2cb",
   "metadata": {},
   "source": [
    "- 웹 API\n",
    "- 네이버 뉴스 크롤링(https://developers.naver.com/docs/serviceapi/search/news/news.md#%EB%89%B4%EC%8A%A4-%EA%B2%80%EC%83%89-%EA%B2%B0%EA%B3%BC-%EC%A1%B0%ED%9A%8C)"
   ]
  },
  {
   "cell_type": "code",
   "execution_count": 1,
   "id": "ff0db8e4",
   "metadata": {},
   "outputs": [],
   "source": [
    "import os\n",
    "import sys\n",
    "import urllib.request\n",
    "import datetime\n",
    "import time\n",
    "import json"
   ]
  },
  {
   "cell_type": "code",
   "execution_count": 2,
   "id": "89192b5a",
   "metadata": {},
   "outputs": [],
   "source": [
    "# 네이버 개발자 센터에서 받은 값\n",
    "client_id = 'YwMwm1qX948VxA0NB87d'\n",
    "client_secret = 'UCM0_qCeUi'"
   ]
  },
  {
   "cell_type": "code",
   "execution_count": 3,
   "id": "ae9ee05b",
   "metadata": {},
   "outputs": [],
   "source": [
    "# 받아온 url로 데이터 가져오기\n",
    "def getRequestUrl(url):    \n",
    "    req = urllib.request.Request(url)\n",
    "    req.add_header(\"X-Naver-Client-Id\", client_id)\n",
    "    req.add_header(\"X-Naver-Client-Secret\", client_secret)\n",
    "    print(\"request ok...\")\n",
    "    try: \n",
    "        print(\"trying ok...\")\n",
    "        response = urllib.request.urlopen(req)\n",
    "        if response.getcode() == 200:\n",
    "            print (\"[%s] Url Request Success\" % datetime.datetime.now())\n",
    "            return response.read().decode('utf-8')\n",
    "    except Exception as e:\n",
    "        print(e)\n",
    "        print(\"[%s] Error for URL... : %s\" % (datetime.datetime.now(), url))\n",
    "        return None"
   ]
  },
  {
   "cell_type": "code",
   "execution_count": 4,
   "id": "55408a10",
   "metadata": {},
   "outputs": [],
   "source": [
    "# url 생성하기\n",
    "def getNaverSearch(node, srcText, start, display):    \n",
    "    base = \"https://openapi.naver.com/v1/search\"\n",
    "    node = \"/%s.json\" % node\n",
    "    parameters = \"?query=%s&start=%s&display=%s\" % (urllib.parse.quote(srcText), start, display)\n",
    "    \n",
    "    url = base + node + parameters    \n",
    "    responseDecode = getRequestUrl(url)   # url로 요청\n",
    "    \n",
    "    if (responseDecode == None):\n",
    "        return None\n",
    "    else:\n",
    "        return json.loads(responseDecode)"
   ]
  },
  {
   "cell_type": "code",
   "execution_count": 5,
   "id": "be5853de",
   "metadata": {},
   "outputs": [],
   "source": [
    "# 하나의 json 객체 만들기...\n",
    "def getPostData(post, jsonResult, cnt):    \n",
    "    title = post['title']\n",
    "    description = post['description']\n",
    "    org_link = post['originallink']\n",
    "    link = post['link']\n",
    "    \n",
    "    pDate = datetime.datetime.strptime(post['pubDate'],  '%a, %d %b %Y %H:%M:%S +0900')\n",
    "    pDate = pDate.strftime('%Y-%m-%d %H:%M:%S')\n",
    "    \n",
    "    jsonResult.append({'cnt':cnt, 'title':title, 'description': description, \n",
    "'org_link':org_link,   'link': org_link,   'pDate':pDate})\n",
    "    return  "
   ]
  },
  {
   "cell_type": "code",
   "execution_count": 8,
   "id": "47584776",
   "metadata": {},
   "outputs": [],
   "source": [
    "# 크롤링하기\n",
    "def main():\n",
    "    node = 'news'   # 크롤링 할 대상\n",
    "    srcText = input('검색어를 입력하세요: ')\n",
    "    cnt = 0\n",
    "    jsonResult = []\n",
    "\n",
    "    jsonResponse = getNaverSearch(node, srcText, 1, 100)  # url 생성하고 데이터 받아오기, 1번째 데이터 가져오기\n",
    "    total = jsonResponse['total']\n",
    " \n",
    "    while ((jsonResponse != None) and (jsonResponse['display'] != 0)):         \n",
    "        for post in jsonResponse['items']:\n",
    "            cnt += 1\n",
    "            getPostData(post, jsonResult, cnt)  # 객체화하기     \n",
    "        \n",
    "        start = jsonResponse['start'] + jsonResponse['display']\n",
    "        jsonResponse = getNaverSearch(node, srcText, start, 100)  # 그 다음(start)번째 데이터 가져오기\n",
    "       \n",
    "    print('전체 검색 : %d 건' %total)\n",
    "    \n",
    "    # 저장하기\n",
    "    with open('%s_naver_%s.json' % (srcText, node), 'w', encoding='utf8') as outfile:\n",
    "        jsonFile = json.dumps(jsonResult,  indent=4, sort_keys=True,  ensure_ascii=False)\n",
    "                        \n",
    "        outfile.write(jsonFile)\n",
    "        \n",
    "    print(\"가져온 데이터 : %d 건\" %(cnt)) # 1000개씩 가져와지는데, 이는 네이버에서 서비스 신청할 때 정해진 것\n",
    "    print ('%s_naver_%s.json SAVED' % (srcText, node))"
   ]
  },
  {
   "cell_type": "code",
   "execution_count": 9,
   "id": "f4a086ba",
   "metadata": {},
   "outputs": [
    {
     "name": "stdout",
     "output_type": "stream",
     "text": [
      "검색어를 입력하세요: gpt\n",
      "request ok...\n",
      "trying ok...\n",
      "[2023-04-12 09:56:23.054412] Url Request Success\n",
      "request ok...\n",
      "trying ok...\n",
      "[2023-04-12 09:56:23.250920] Url Request Success\n",
      "request ok...\n",
      "trying ok...\n",
      "[2023-04-12 09:56:23.429988] Url Request Success\n",
      "request ok...\n",
      "trying ok...\n",
      "[2023-04-12 09:56:23.619544] Url Request Success\n",
      "request ok...\n",
      "trying ok...\n",
      "[2023-04-12 09:56:23.804974] Url Request Success\n",
      "request ok...\n",
      "trying ok...\n",
      "[2023-04-12 09:56:23.993769] Url Request Success\n",
      "request ok...\n",
      "trying ok...\n",
      "[2023-04-12 09:56:24.181036] Url Request Success\n",
      "request ok...\n",
      "trying ok...\n",
      "[2023-04-12 09:56:24.378690] Url Request Success\n",
      "request ok...\n",
      "trying ok...\n",
      "[2023-04-12 09:56:24.574613] Url Request Success\n",
      "request ok...\n",
      "trying ok...\n",
      "[2023-04-12 09:56:24.769614] Url Request Success\n",
      "request ok...\n",
      "trying ok...\n",
      "HTTP Error 400: Bad Request\n",
      "[2023-04-12 09:56:24.880165] Error for URL... : https://openapi.naver.com/v1/search/news.json?query=gpt&start=1001&display=100\n",
      "전체 검색 : 32594 건\n",
      "가져온 데이터 : 1000 건\n",
      "gpt_naver_news.json SAVED\n"
     ]
    }
   ],
   "source": [
    "if __name__ == '__main__':\n",
    "    main()"
   ]
  },
  {
   "cell_type": "code",
   "execution_count": null,
   "id": "8c6f7969",
   "metadata": {},
   "outputs": [],
   "source": []
  }
 ],
 "metadata": {
  "kernelspec": {
   "display_name": "Python 3 (ipykernel)",
   "language": "python",
   "name": "python3"
  },
  "language_info": {
   "codemirror_mode": {
    "name": "ipython",
    "version": 3
   },
   "file_extension": ".py",
   "mimetype": "text/x-python",
   "name": "python",
   "nbconvert_exporter": "python",
   "pygments_lexer": "ipython3",
   "version": "3.9.13"
  }
 },
 "nbformat": 4,
 "nbformat_minor": 5
}
