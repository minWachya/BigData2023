{
 "cells": [
  {
   "cell_type": "code",
   "execution_count": 2,
   "id": "b7c4e8d2",
   "metadata": {},
   "outputs": [
    {
     "name": "stdout",
     "output_type": "stream",
     "text": [
      "Collecting selenium\n",
      "  Downloading selenium-4.8.3-py3-none-any.whl (6.5 MB)\n",
      "\u001b[2K     \u001b[90m━━━━━━━━━━━━━━━━━━━━━━━━━━━━━━━━━━━━━━━━\u001b[0m \u001b[32m6.5/6.5 MB\u001b[0m \u001b[31m2.4 MB/s\u001b[0m eta \u001b[36m0:00:00\u001b[0m00:01\u001b[0m00:01\u001b[0mm\n",
      "\u001b[?25hCollecting trio-websocket~=0.9\n",
      "  Downloading trio_websocket-0.10.2-py3-none-any.whl (17 kB)\n",
      "Requirement already satisfied: urllib3[socks]~=1.26 in /Users/min0/Downloads/anaconda3/lib/python3.9/site-packages (from selenium) (1.26.11)\n",
      "Collecting trio~=0.17\n",
      "  Downloading trio-0.22.0-py3-none-any.whl (384 kB)\n",
      "\u001b[2K     \u001b[90m━━━━━━━━━━━━━━━━━━━━━━━━━━━━━━━━━━━━━━━\u001b[0m \u001b[32m384.9/384.9 kB\u001b[0m \u001b[31m5.0 MB/s\u001b[0m eta \u001b[36m0:00:00\u001b[0ma \u001b[36m0:00:01\u001b[0m\n",
      "\u001b[?25hRequirement already satisfied: certifi>=2021.10.8 in /Users/min0/Downloads/anaconda3/lib/python3.9/site-packages (from selenium) (2022.9.24)\n",
      "Requirement already satisfied: attrs>=19.2.0 in /Users/min0/Downloads/anaconda3/lib/python3.9/site-packages (from trio~=0.17->selenium) (21.4.0)\n",
      "Requirement already satisfied: idna in /Users/min0/Downloads/anaconda3/lib/python3.9/site-packages (from trio~=0.17->selenium) (3.3)\n",
      "Requirement already satisfied: sortedcontainers in /Users/min0/Downloads/anaconda3/lib/python3.9/site-packages (from trio~=0.17->selenium) (2.4.0)\n",
      "Collecting outcome\n",
      "  Downloading outcome-1.2.0-py2.py3-none-any.whl (9.7 kB)\n",
      "Collecting exceptiongroup>=1.0.0rc9\n",
      "  Downloading exceptiongroup-1.1.1-py3-none-any.whl (14 kB)\n",
      "Collecting async-generator>=1.9\n",
      "  Downloading async_generator-1.10-py3-none-any.whl (18 kB)\n",
      "Requirement already satisfied: sniffio in /Users/min0/Downloads/anaconda3/lib/python3.9/site-packages (from trio~=0.17->selenium) (1.2.0)\n",
      "Collecting wsproto>=0.14\n",
      "  Downloading wsproto-1.2.0-py3-none-any.whl (24 kB)\n",
      "Requirement already satisfied: PySocks!=1.5.7,<2.0,>=1.5.6 in /Users/min0/Downloads/anaconda3/lib/python3.9/site-packages (from urllib3[socks]~=1.26->selenium) (1.7.1)\n",
      "Collecting h11<1,>=0.9.0\n",
      "  Downloading h11-0.14.0-py3-none-any.whl (58 kB)\n",
      "\u001b[2K     \u001b[90m━━━━━━━━━━━━━━━━━━━━━━━━━━━━━━━━━━━━━━━━\u001b[0m \u001b[32m58.3/58.3 kB\u001b[0m \u001b[31m4.8 MB/s\u001b[0m eta \u001b[36m0:00:00\u001b[0m\n",
      "\u001b[?25hInstalling collected packages: outcome, h11, exceptiongroup, async-generator, wsproto, trio, trio-websocket, selenium\n",
      "Successfully installed async-generator-1.10 exceptiongroup-1.1.1 h11-0.14.0 outcome-1.2.0 selenium-4.8.3 trio-0.22.0 trio-websocket-0.10.2 wsproto-1.2.0\n",
      "Note: you may need to restart the kernel to use updated packages.\n"
     ]
    }
   ],
   "source": [
    "pip install selenium"
   ]
  },
  {
   "cell_type": "code",
   "execution_count": 6,
   "id": "7491bb98",
   "metadata": {},
   "outputs": [
    {
     "name": "stdout",
     "output_type": "stream",
     "text": [
      "CoffeeBean store crawling >>>>>>>>>>>>>>>>>>>>>>>>>>\n"
     ]
    },
    {
     "name": "stderr",
     "output_type": "stream",
     "text": [
      "/var/folders/b9/x_2_sqpd5y3393q9vwpcscjm0000gn/T/ipykernel_95845/3484500792.py:12: DeprecationWarning: executable_path has been deprecated, please pass in a Service object\n",
      "  wd = webdriver.Chrome('user/local/bin/chromedriver')#('chromedriver.exe') # 웹페이지 컨트롤 위한 드라이버\n"
     ]
    },
    {
     "name": "stdout",
     "output_type": "stream",
     "text": [
      "청담에스점\n",
      "신사점\n",
      "압구정역점\n",
      "역삼점\n",
      "양재스포타임점\n",
      "청담성당점\n",
      "영동점\n",
      "도곡점\n"
     ]
    }
   ],
   "source": [
    "from bs4 import BeautifulSoup\n",
    "import urllib.request\n",
    "import pandas as pd\n",
    "import datetime\n",
    "\n",
    "from selenium import webdriver\n",
    "import time\n",
    "\n",
    "#[CODE 1]\n",
    "def CoffeeBean_store(result):\n",
    "    CoffeeBean_URL = \"https://www.coffeebeankorea.com/store/store.asp\"\n",
    "    wd = webdriver.Chrome('user/local/bin/chromedriver')#('chromedriver.exe') # 웹페이지 컨트롤 위한 드라이버\n",
    "             \n",
    "    for i in range(11,20):  #매장 수(370개) 만큼 반복, 테스트=20\n",
    "        wd.get(CoffeeBean_URL)\n",
    "        time.sleep(1)  #웹페이지 연결할 동안 1초 대기\n",
    "        try:\n",
    "            wd.execute_script(\"storePop2(%d)\" %i) # dynamic한 부분!: 웹 페이지 안의 스크립트 실행해야 매장 다음 꺼 다음 꺼 보임\n",
    "            time.sleep(1) #스크립트 실행 할 동안 1초 대기\n",
    "            html = wd.page_source\n",
    "            soupCB = BeautifulSoup(html, 'html.parser')\n",
    "            store_name_h2 = soupCB.select(\"div.store_txt > h2\")\n",
    "            store_name = store_name_h2[0].string # store 이름!!\n",
    "            print(store_name)  #매장 이름 출력하기\n",
    "            store_info = soupCB.select(\"div.store_txt > table.store_table > tbody > tr > td\")\n",
    "            store_address_list = list(store_info[2])\n",
    "            store_address = store_address_list[0]\n",
    "            store_phone = store_info[3].string\n",
    "            result.append([store_name]+[store_address]+[store_phone])\n",
    "        except:\n",
    "            continue \n",
    "    return\n",
    "\n",
    "#[CODE 0]\n",
    "def main():\n",
    "    result = []\n",
    "    print('CoffeeBean store crawling >>>>>>>>>>>>>>>>>>>>>>>>>>')\n",
    "    CoffeeBean_store(result)  #[CODE 1]\n",
    "    \n",
    "    CB_tbl = pd.DataFrame(result, columns=('store', 'address','phone'))\n",
    "    CB_tbl.to_csv('./CoffeeBean.csv', encoding='cp949', mode='w', index=True)\n",
    "\n",
    "if __name__ == '__main__':\n",
    "     main()"
   ]
  },
  {
   "cell_type": "code",
   "execution_count": null,
   "id": "4e05d8ae",
   "metadata": {},
   "outputs": [],
   "source": []
  },
  {
   "cell_type": "code",
   "execution_count": null,
   "id": "0c2fdbdb",
   "metadata": {},
   "outputs": [],
   "source": []
  }
 ],
 "metadata": {
  "kernelspec": {
   "display_name": "Python 3 (ipykernel)",
   "language": "python",
   "name": "python3"
  },
  "language_info": {
   "codemirror_mode": {
    "name": "ipython",
    "version": 3
   },
   "file_extension": ".py",
   "mimetype": "text/x-python",
   "name": "python",
   "nbconvert_exporter": "python",
   "pygments_lexer": "ipython3",
   "version": "3.9.13"
  }
 },
 "nbformat": 4,
 "nbformat_minor": 5
}
