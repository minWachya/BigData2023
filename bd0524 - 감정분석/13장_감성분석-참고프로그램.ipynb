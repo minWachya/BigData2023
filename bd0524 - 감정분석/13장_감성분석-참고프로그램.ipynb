{
 "cells": [
  {
   "cell_type": "code",
   "execution_count": 5,
   "id": "7886fe7d",
   "metadata": {},
   "outputs": [],
   "source": [
    "text=\"난 우리영화를 love 사랑합니다....^^\""
   ]
  },
  {
   "cell_type": "code",
   "execution_count": 6,
   "id": "ec8d5823",
   "metadata": {},
   "outputs": [
    {
     "name": "stdout",
     "output_type": "stream",
     "text": [
      "난 우리영화를   사랑합니다 \n"
     ]
    }
   ],
   "source": [
    "import re\n",
    "\n",
    "# string replace: 한글이 아닌 것을 공백으로 변경\n",
    "newstr = re.sub(r'[^ ㄱ-ㅣ가-힣]+', \" \", text)\n",
    "print(newstr)"
   ]
  },
  {
   "cell_type": "code",
   "execution_count": 7,
   "id": "e32034d7",
   "metadata": {},
   "outputs": [],
   "source": [
    "from konlpy.tag import Okt # 한국어 정보처리를 위한 파이썬 패키지\n",
    "okt = Okt() "
   ]
  },
  {
   "cell_type": "code",
   "execution_count": 8,
   "id": "e73b06c3",
   "metadata": {},
   "outputs": [
    {
     "name": "stdout",
     "output_type": "stream",
     "text": [
      "['난', '우리', '영화', '를', 'love', '사랑', '합니다', '....^^']\n"
     ]
    }
   ],
   "source": [
    "tokens = okt.morphs(text)\n",
    "print(tokens)\n",
    "# ['난', '우리', '영화', '를', '사랑', '합니다']"
   ]
  },
  {
   "cell_type": "code",
   "execution_count": 10,
   "id": "f775f3d8",
   "metadata": {},
   "outputs": [
    {
     "name": "stdout",
     "output_type": "stream",
     "text": [
      "['난', '우리', '영화', '를', '사랑', '합니다']\n"
     ]
    }
   ],
   "source": [
    "new_tokens = okt.morphs(newstr)\n",
    "print(new_tokens)"
   ]
  },
  {
   "cell_type": "code",
   "execution_count": 9,
   "id": "e4d2c232",
   "metadata": {},
   "outputs": [
    {
     "name": "stdout",
     "output_type": "stream",
     "text": [
      "['난', '우리', '영화', '사랑']\n"
     ]
    }
   ],
   "source": [
    "# 명사 찾기 okt.noun()\n",
    "no = okt.nouns(newstr)\n",
    "print(no)"
   ]
  },
  {
   "cell_type": "code",
   "execution_count": null,
   "id": "8860c629",
   "metadata": {},
   "outputs": [],
   "source": []
  }
 ],
 "metadata": {
  "kernelspec": {
   "display_name": "Python 3 (ipykernel)",
   "language": "python",
   "name": "python3"
  },
  "language_info": {
   "codemirror_mode": {
    "name": "ipython",
    "version": 3
   },
   "file_extension": ".py",
   "mimetype": "text/x-python",
   "name": "python",
   "nbconvert_exporter": "python",
   "pygments_lexer": "ipython3",
   "version": "3.9.13"
  }
 },
 "nbformat": 4,
 "nbformat_minor": 5
}
